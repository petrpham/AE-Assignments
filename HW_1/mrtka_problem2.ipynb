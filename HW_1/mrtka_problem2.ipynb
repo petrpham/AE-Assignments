{
 "cells": [
  {
   "cell_type": "markdown",
   "metadata": {},
   "source": [
    "**PROBLEM 2**\n",
    "\n",
    "When finding the estimates for quantile regression out task is to minimize function: \n",
    "\n",
    "$F(\\beta(q)| y, X)=\\sum_{i:e_{i,q}\t\\geq 0} q|y_i-x'_i\\beta(q)|+\\sum_{i:e_{i,q}\t\\geq 0} (1+q)|y_i-x'_i\\beta(q)|$ where $e_{i,q}=y_i+x'_i\\beta(q)$. Let us apply this logic to the information from the setup. $F(\\beta(q)| y, X)=\\sum_{i:e_{i,q}\t\\geq 0} q|educ_i * \\frac{e_{i,q}}{10}|+\\sum_{i:e_{i,q}\t\\geq 0} (1+q)|educ_i * \\frac{e_{i,q}}{10}|$. \n",
    "\n",
    "To minimize such a function we have to find the best constellation of variables from the function, i.e. $e_{i,q}, educ_i$ which works with preset $q$. \n",
    "We know that $q$ is between 0 and 1, therefore positive and the second part of the multiplication is in absolute value. The minimum value of the function $F$ can be desired with either $q$ or the absolute value set equal zero. \n",
    "\n",
    "In our case the estimates (derived from minimized function $F$) differ based on $q$ (up to our decision) and term $educ_i$, this changes their values. \n",
    "\n",
    "Naturally, if $q$ is changed estimates of $\\beta(q)$ change, but in our opinion if we scale the data by a scalar $s$ the effect desribed by $\\beta$ shall not change (based on basic econometric theory), but in our case the estimates will change. "
   ]
  },
  {
   "cell_type": "code",
   "execution_count": null,
   "metadata": {},
   "outputs": [],
   "source": [
    "set.seed(655)\n",
    "\n",
    "n = 5000\n",
    "m = 0\n",
    "educ_range = 2:75 \n",
    "educ = sample(educ_range, n, replace = T)\n",
    "epsilon = rnorm(n, sd=200) \n",
    "income = 4000 + 200 * educ + educ * epsilon/10 \n",
    "\n",
    "my_data<-data.frame(income, educ, educ*epsilon/10)\n",
    "options(repr.plot.width=5, repr.plot.height=4)\n",
    "plot(educ, income, pch=20)"
   ]
  },
  {
   "cell_type": "code",
   "execution_count": 59,
   "metadata": {},
   "outputs": [
    {
     "name": "stderr",
     "output_type": "stream",
     "text": [
      "Installing package into 'C:/Users/charv/Documents/R/win-library/3.3'\n",
      "(as 'lib' is unspecified)\n"
     ]
    },
    {
     "name": "stdout",
     "output_type": "stream",
     "text": [
      "\n",
      "  There is a binary version available but the source version is later:\n",
      "         binary source needs_compilation\n",
      "quantreg   5.35   5.51              TRUE\n",
      "\n",
      "  Binaries will be installed\n"
     ]
    },
    {
     "name": "stderr",
     "output_type": "stream",
     "text": [
      "Warning message:\n",
      "\"package 'quantreg' is in use and will not be installed\""
     ]
    },
    {
     "data": {
      "text/plain": [
       "Call:\n",
       "rq(formula = income ~ educ, tau = 0.01, data = my_data)\n",
       "\n",
       "Coefficients:\n",
       "(Intercept)        educ \n",
       "  4016.3620    151.0211 \n",
       "\n",
       "Degrees of freedom: 5000 total; 4998 residual"
      ]
     },
     "metadata": {},
     "output_type": "display_data"
    },
    {
     "data": {
      "text/plain": [
       "Call:\n",
       "rq(formula = income ~ educ, tau = 0.45, data = my_data)\n",
       "\n",
       "Coefficients:\n",
       "(Intercept)        educ \n",
       "  3994.8482    197.7373 \n",
       "\n",
       "Degrees of freedom: 5000 total; 4998 residual"
      ]
     },
     "metadata": {},
     "output_type": "display_data"
    },
    {
     "data": {
      "text/plain": [
       "Call:\n",
       "rq(formula = income ~ educ, tau = 0.01, data = my_data2)\n",
       "\n",
       "Coefficients:\n",
       "(Intercept)        educ \n",
       " 20081.8101    151.0211 \n",
       "\n",
       "Degrees of freedom: 5000 total; 4998 residual"
      ]
     },
     "metadata": {},
     "output_type": "display_data"
    },
    {
     "data": {
      "text/plain": [
       "Call:\n",
       "rq(formula = income ~ educ, tau = 0.45, data = my_data2)\n",
       "\n",
       "Coefficients:\n",
       "(Intercept)        educ \n",
       " 19974.2410    197.7373 \n",
       "\n",
       "Degrees of freedom: 5000 total; 4998 residual"
      ]
     },
     "metadata": {},
     "output_type": "display_data"
    }
   ],
   "source": [
    "install.packages(\"quantreg\", repos='http://cran.us.r-project.org')\n",
    "library(quantreg)\n",
    "model_1<-rq(income ~ educ, data = my_data,0.01)\n",
    "model_1\n",
    "model_45<-rq(income ~ educ, data = my_data,0.45)\n",
    "model_45\n",
    "\n",
    "my_data2<-my_data*5\n",
    "\n",
    "model_1<-rq(income ~ educ, data = my_data2,0.01)\n",
    "model_1\n",
    "model_45<-rq(income ~ educ, data = my_data2,0.45)\n",
    "model_45"
   ]
  },
  {
   "cell_type": "code",
   "execution_count": null,
   "metadata": {},
   "outputs": [],
   "source": []
  },
  {
   "cell_type": "code",
   "execution_count": null,
   "metadata": {},
   "outputs": [],
   "source": []
  },
  {
   "cell_type": "code",
   "execution_count": null,
   "metadata": {},
   "outputs": [],
   "source": []
  },
  {
   "cell_type": "code",
   "execution_count": null,
   "metadata": {},
   "outputs": [],
   "source": []
  }
 ],
 "metadata": {
  "hide_input": false,
  "kernelspec": {
   "display_name": "R",
   "language": "R",
   "name": "ir"
  },
  "language_info": {
   "codemirror_mode": "r",
   "file_extension": ".r",
   "mimetype": "text/x-r-source",
   "name": "R",
   "pygments_lexer": "r",
   "version": "3.6.1"
  }
 },
 "nbformat": 4,
 "nbformat_minor": 2
}
