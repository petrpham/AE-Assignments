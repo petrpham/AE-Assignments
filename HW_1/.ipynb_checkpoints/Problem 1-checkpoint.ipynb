{
 "cells": [
  {
   "cell_type": "code",
   "execution_count": 109,
   "metadata": {},
   "outputs": [
    {
     "name": "stderr",
     "output_type": "stream",
     "text": [
      "Installing package into 'C:/Users/petr.pham/Documents/R/win-library/3.6'\n",
      "(as 'lib' is unspecified)\n"
     ]
    },
    {
     "name": "stdout",
     "output_type": "stream",
     "text": [
      "package 'stargazer' successfully unpacked and MD5 sums checked\n",
      "\n",
      "The downloaded binary packages are in\n",
      "\tC:\\Users\\petr.pham\\AppData\\Local\\Temp\\RtmpEZMHwI\\downloaded_packages\n"
     ]
    }
   ],
   "source": [
    "install.packages(\"stargazer\")\n",
    "install.packages(\"gridExtra\")"
   ]
  },
  {
   "cell_type": "code",
   "execution_count": 121,
   "metadata": {},
   "outputs": [
    {
     "name": "stderr",
     "output_type": "stream",
     "text": [
      "Loading required package: quantreg\n",
      "Loading required package: SparseM\n",
      "\n",
      "Attaching package: 'SparseM'\n",
      "\n",
      "The following object is masked from 'package:base':\n",
      "\n",
      "    backsolve\n",
      "\n"
     ]
    }
   ],
   "source": [
    "require(dplyr)\n",
    "require(ggplot2)\n",
    "require(gridExtra)\n",
    "require(stargazer)\n",
    "require(maxLik)\n",
    "require(quantreg)"
   ]
  },
  {
   "cell_type": "code",
   "execution_count": 14,
   "metadata": {},
   "outputs": [
    {
     "data": {
      "text/html": [
       "'D:/IES/Ecox/HW_1'"
      ],
      "text/latex": [
       "'D:/IES/Ecox/HW\\_1'"
      ],
      "text/markdown": [
       "'D:/IES/Ecox/HW_1'"
      ],
      "text/plain": [
       "[1] \"D:/IES/Ecox/HW_1\""
      ]
     },
     "metadata": {},
     "output_type": "display_data"
    }
   ],
   "source": [
    "getwd() "
   ]
  },
  {
   "cell_type": "code",
   "execution_count": 38,
   "metadata": {},
   "outputs": [],
   "source": [
    "df <- as.data.frame(read.csv(file = \"hw1_data.csv\", sep = \",\", header = TRUE))"
   ]
  },
  {
   "cell_type": "code",
   "execution_count": 39,
   "metadata": {},
   "outputs": [
    {
     "data": {
      "text/html": [
       "<table>\n",
       "<thead><tr><th scope=col>X1</th><th scope=col>X2</th><th scope=col>Y1</th><th scope=col>Y2</th><th scope=col>Y3</th><th scope=col>Y4</th></tr></thead>\n",
       "<tbody>\n",
       "\t<tr><td>10   </td><td> 8   </td><td> 8.04</td><td>9.14 </td><td> 7.46</td><td> 6.58</td></tr>\n",
       "\t<tr><td> 8   </td><td> 8   </td><td> 6.95</td><td>8.14 </td><td> 6.77</td><td> 5.76</td></tr>\n",
       "\t<tr><td>13   </td><td> 8   </td><td> 7.58</td><td>8.74 </td><td>12.74</td><td> 7.71</td></tr>\n",
       "\t<tr><td> 9   </td><td> 8   </td><td> 8.81</td><td>8.77 </td><td> 7.11</td><td> 8.84</td></tr>\n",
       "\t<tr><td>11   </td><td> 8   </td><td> 8.33</td><td>9.26 </td><td> 7.81</td><td> 8.47</td></tr>\n",
       "\t<tr><td>14   </td><td> 8   </td><td> 9.96</td><td>8.10 </td><td> 8.84</td><td> 7.04</td></tr>\n",
       "\t<tr><td> 6   </td><td> 8   </td><td> 7.24</td><td>6.13 </td><td> 6.08</td><td> 5.25</td></tr>\n",
       "\t<tr><td> 4   </td><td>19   </td><td> 4.26</td><td>3.10 </td><td> 5.39</td><td>12.50</td></tr>\n",
       "\t<tr><td>12   </td><td> 8   </td><td>10.84</td><td>9.13 </td><td> 8.15</td><td> 5.56</td></tr>\n",
       "\t<tr><td> 7   </td><td> 8   </td><td> 4.82</td><td>7.26 </td><td> 6.42</td><td> 7.91</td></tr>\n",
       "\t<tr><td> 5   </td><td> 8   </td><td> 5.68</td><td>4.74 </td><td> 5.73</td><td> 6.89</td></tr>\n",
       "</tbody>\n",
       "</table>\n"
      ],
      "text/latex": [
       "\\begin{tabular}{r|llllll}\n",
       " X1 & X2 & Y1 & Y2 & Y3 & Y4\\\\\n",
       "\\hline\n",
       "\t 10    &  8    &  8.04 & 9.14  &  7.46 &  6.58\\\\\n",
       "\t  8    &  8    &  6.95 & 8.14  &  6.77 &  5.76\\\\\n",
       "\t 13    &  8    &  7.58 & 8.74  & 12.74 &  7.71\\\\\n",
       "\t  9    &  8    &  8.81 & 8.77  &  7.11 &  8.84\\\\\n",
       "\t 11    &  8    &  8.33 & 9.26  &  7.81 &  8.47\\\\\n",
       "\t 14    &  8    &  9.96 & 8.10  &  8.84 &  7.04\\\\\n",
       "\t  6    &  8    &  7.24 & 6.13  &  6.08 &  5.25\\\\\n",
       "\t  4    & 19    &  4.26 & 3.10  &  5.39 & 12.50\\\\\n",
       "\t 12    &  8    & 10.84 & 9.13  &  8.15 &  5.56\\\\\n",
       "\t  7    &  8    &  4.82 & 7.26  &  6.42 &  7.91\\\\\n",
       "\t  5    &  8    &  5.68 & 4.74  &  5.73 &  6.89\\\\\n",
       "\\end{tabular}\n"
      ],
      "text/markdown": [
       "\n",
       "| X1 | X2 | Y1 | Y2 | Y3 | Y4 |\n",
       "|---|---|---|---|---|---|\n",
       "| 10    |  8    |  8.04 | 9.14  |  7.46 |  6.58 |\n",
       "|  8    |  8    |  6.95 | 8.14  |  6.77 |  5.76 |\n",
       "| 13    |  8    |  7.58 | 8.74  | 12.74 |  7.71 |\n",
       "|  9    |  8    |  8.81 | 8.77  |  7.11 |  8.84 |\n",
       "| 11    |  8    |  8.33 | 9.26  |  7.81 |  8.47 |\n",
       "| 14    |  8    |  9.96 | 8.10  |  8.84 |  7.04 |\n",
       "|  6    |  8    |  7.24 | 6.13  |  6.08 |  5.25 |\n",
       "|  4    | 19    |  4.26 | 3.10  |  5.39 | 12.50 |\n",
       "| 12    |  8    | 10.84 | 9.13  |  8.15 |  5.56 |\n",
       "|  7    |  8    |  4.82 | 7.26  |  6.42 |  7.91 |\n",
       "|  5    |  8    |  5.68 | 4.74  |  5.73 |  6.89 |\n",
       "\n"
      ],
      "text/plain": [
       "   X1 X2 Y1    Y2   Y3    Y4   \n",
       "1  10  8  8.04 9.14  7.46  6.58\n",
       "2   8  8  6.95 8.14  6.77  5.76\n",
       "3  13  8  7.58 8.74 12.74  7.71\n",
       "4   9  8  8.81 8.77  7.11  8.84\n",
       "5  11  8  8.33 9.26  7.81  8.47\n",
       "6  14  8  9.96 8.10  8.84  7.04\n",
       "7   6  8  7.24 6.13  6.08  5.25\n",
       "8   4 19  4.26 3.10  5.39 12.50\n",
       "9  12  8 10.84 9.13  8.15  5.56\n",
       "10  7  8  4.82 7.26  6.42  7.91\n",
       "11  5  8  5.68 4.74  5.73  6.89"
      ]
     },
     "metadata": {},
     "output_type": "display_data"
    }
   ],
   "source": [
    "df"
   ]
  },
  {
   "cell_type": "code",
   "execution_count": 40,
   "metadata": {},
   "outputs": [
    {
     "name": "stdout",
     "output_type": "stream",
     "text": [
      "'data.frame':\t11 obs. of  6 variables:\n",
      " $ X1: int  10 8 13 9 11 14 6 4 12 7 ...\n",
      " $ X2: int  8 8 8 8 8 8 8 19 8 8 ...\n",
      " $ Y1: num  8.04 6.95 7.58 8.81 8.33 ...\n",
      " $ Y2: num  9.14 8.14 8.74 8.77 9.26 8.1 6.13 3.1 9.13 7.26 ...\n",
      " $ Y3: num  7.46 6.77 12.74 7.11 7.81 ...\n",
      " $ Y4: num  6.58 5.76 7.71 8.84 8.47 7.04 5.25 12.5 5.56 7.91 ...\n"
     ]
    }
   ],
   "source": [
    "str(df)"
   ]
  },
  {
   "cell_type": "code",
   "execution_count": 90,
   "metadata": {},
   "outputs": [],
   "source": [
    "s11 <- df %>% select(\"X1\", \"Y1\")\n",
    "s12 <- df %>% select(\"X1\", \"Y2\")\n",
    "s13 <- df %>% select(\"X1\", \"Y3\")\n",
    "s24 <- df %>% select(\"X2\", \"Y4\")"
   ]
  },
  {
   "cell_type": "code",
   "execution_count": 91,
   "metadata": {},
   "outputs": [],
   "source": [
    "s11plot <- ggplot(s11, aes(x = X1, y = Y1)) + geom_point(color = \"blue\") + geom_abline(color = \"red\") + xlim(min(df %>% select(1:2)), max(df %>% select(1:2))) + ylim(min(df %>% select(3:6)), max(df %>% select(3:6)))\n",
    "s12plot <- ggplot(s12, aes(x = X1, y = Y2)) + geom_point(color = \"blue\") + geom_abline(color = \"red\") + xlim(min(df %>% select(1:2)), max(df %>% select(1:2))) + ylim(min(df %>% select(3:6)), max(df %>% select(3:6)))\n",
    "s13plot <- ggplot(s13, aes(x = X1, y = Y3)) + geom_point(color = \"blue\") + geom_abline(color = \"red\") + xlim(min(df %>% select(1:2)), max(df %>% select(1:2))) + ylim(min(df %>% select(3:6)), max(df %>% select(3:6)))\n",
    "s24plot <- ggplot(s24, aes(x = X2, y = Y4)) + geom_point(color = \"blue\") + geom_abline(color = \"red\") + xlim(min(df %>% select(1:2)), max(df %>% select(1:2))) + ylim(min(df %>% select(3:6)), max(df %>% select(3:6)))"
   ]
  },
  {
   "cell_type": "code",
   "execution_count": 92,
   "metadata": {},
   "outputs": [
    {
     "data": {
      "image/png": "[encoded data removed]",
      "text/plain": [
       "plot without title"
      ]
     },
     "metadata": {},
     "output_type": "display_data"
    }
   ],
   "source": [
    "grid.arrange(s11plot, s12plot, s13plot, s24plot)"
   ]
  },
  {
   "cell_type": "code",
   "execution_count": null,
   "metadata": {},
   "outputs": [],
   "source": [
    "#1/ OLS and MLE"
   ]
  },
  {
   "cell_type": "code",
   "execution_count": 119,
   "metadata": {},
   "outputs": [],
   "source": [
    "s11ols <- lm(Y1 ~ X1, data = s11)\n",
    "s12ols <- lm(Y2 ~ X1, data = s12)\n",
    "s13ols <- lm(Y3 ~ X1, data = s13)\n",
    "s24ols <- lm(Y4 ~ X2, data = s24)"
   ]
  },
  {
   "cell_type": "code",
   "execution_count": 128,
   "metadata": {},
   "outputs": [
    {
     "name": "stdout",
     "output_type": "stream",
     "text": [
      "\n",
      "===============================================================================\n",
      "                                            Dependent variable:                \n",
      "                             --------------------------------------------------\n",
      "                                Y1        Y2        Y3        Y4         Y1    \n",
      "                                OLS       OLS       OLS       OLS     quantile \n",
      "                                                                     regression\n",
      "                              s11ols    s12ols    s13ols    s24ols             \n",
      "                                (1)       (2)       (3)       (4)       (5)    \n",
      "-------------------------------------------------------------------------------\n",
      "X1                           0.500***  0.500***  0.500***             0.480**  \n",
      "                              (0.118)   (0.118)   (0.118)             (0.179)  \n",
      "                                                                               \n",
      "X2                                                         0.500***            \n",
      "                                                            (0.118)            \n",
      "                                                                               \n",
      "Intercept                     3.000**   3.001**   3.002**   3.002**    3.240*  \n",
      "                              (1.125)   (1.125)   (1.124)   (1.124)   (1.561)  \n",
      "                                                                               \n",
      "-------------------------------------------------------------------------------\n",
      "Observations                    11        11        11        11         11    \n",
      "R2                             0.667     0.666     0.666     0.667             \n",
      "Adjusted R2                    0.629     0.629     0.629     0.630             \n",
      "Residual Std. Error (df = 9)   1.237     1.237     1.236     1.236             \n",
      "F Statistic (df = 1; 9)      17.990*** 17.966*** 17.972*** 18.003***           \n",
      "===============================================================================\n",
      "Note:                                               *p<0.1; **p<0.05; ***p<0.01\n"
     ]
    }
   ],
   "source": [
    "stargazer(s11ols, s12ols, s13ols, s24ols,\n",
    "          type=\"text\", covariate.labels = c(\"X1\",\"X2\", \"Intercept\"), \n",
    "          column.labels = c(\"s11ols\", \"s12ols\", \"s13ols\", \"s24ols\"))"
   ]
  },
  {
   "cell_type": "code",
   "execution_count": null,
   "metadata": {},
   "outputs": [],
   "source": [
    "#3/ LAD vs OLS"
   ]
  },
  {
   "cell_type": "code",
   "execution_count": 123,
   "metadata": {},
   "outputs": [
    {
     "name": "stderr",
     "output_type": "stream",
     "text": [
      "Warning message in rq.fit.br(x, y, tau = tau, ...):\n",
      "\"Solution may be nonunique\""
     ]
    }
   ],
   "source": [
    "s11lad <- rq(Y1 ~ X1, data = s11, 0.5)\n",
    "s12lad <- rq(Y2 ~ X1, data = s12, 0.5)\n",
    "s13lad <- rq(Y3 ~ X1, data = s13, 0.5)\n",
    "s24lad <- rq(Y4 ~ X2, data = s24, 0.5) # solution may be non-unique"
   ]
  },
  {
   "cell_type": "code",
   "execution_count": 201,
   "metadata": {},
   "outputs": [
    {
     "name": "stdout",
     "output_type": "stream",
     "text": [
      "\n",
      "================================================================================================================\n",
      "                                                             Dependent variable:                                \n",
      "                             -----------------------------------------------------------------------------------\n",
      "                                Y1        Y2        Y3        Y4         Y1         Y2         Y3         Y4    \n",
      "                                OLS       OLS       OLS       OLS     quantile   quantile   quantile   quantile \n",
      "                                                                     regression regression regression regression\n",
      "                              s11ols    s12ols    s13ols    s24ols     s11lad     s12lad     s13lad     s24lad  \n",
      "                                (1)       (2)       (3)       (4)       (5)        (6)        (7)        (8)    \n",
      "----------------------------------------------------------------------------------------------------------------\n",
      "X1                           0.500***  0.500***  0.500***             0.480**    0.500**    0.345***            \n",
      "                              (0.118)   (0.118)   (0.118)             (0.179)    (0.173)    (0.097)             \n",
      "                                                                                                                \n",
      "X2                                                         0.500***                                    0.510*** \n",
      "                                                            (0.118)                                    (0.059)  \n",
      "                                                                                                                \n",
      "Intercept                     3.000**   3.001**   3.002**   3.002**    3.240*     3.130*    4.010***   2.810**  \n",
      "                              (1.125)   (1.125)   (1.124)   (1.124)   (1.561)    (1.650)    (0.392)    (1.122)  \n",
      "                                                                                                                \n",
      "----------------------------------------------------------------------------------------------------------------\n",
      "Observations                    11        11        11        11         11         11         11         11    \n",
      "R2                             0.667     0.666     0.666     0.667                                              \n",
      "Adjusted R2                    0.629     0.629     0.629     0.630                                              \n",
      "Residual Std. Error (df = 9)   1.237     1.237     1.236     1.236                                              \n",
      "F Statistic (df = 1; 9)      17.990*** 17.966*** 17.972*** 18.003***                                            \n",
      "================================================================================================================\n",
      "Note:                                                                                *p<0.1; **p<0.05; ***p<0.01\n"
     ]
    }
   ],
   "source": [
    "stargazer(s11ols, s12ols, s13ols, s24ols, s11lad, s12lad, s13lad, s24lad,\n",
    "          type=\"text\", covariate.labels = c(\"X1\",\"X2\", \"Intercept\"), \n",
    "          column.labels = c(\"s11ols\", \"s12ols\", \"s13ols\", \"s24ols\", \"s11lad\", \"s12lad\", \"s13lad\", \"s24lad\"))"
   ]
  },
  {
   "cell_type": "code",
   "execution_count": 164,
   "metadata": {},
   "outputs": [],
   "source": [
    "quantiles <- list(0.05, 0.25, 0.50, 0.75, 0.95)\n",
    "samples <- list(\"s11\", \"s12\", \"s13\", \"s24\")"
   ]
  },
  {
   "cell_type": "code",
   "execution_count": 212,
   "metadata": {},
   "outputs": [],
   "source": [
    "quantmodels <- list()"
   ]
  },
  {
   "cell_type": "code",
   "execution_count": 213,
   "metadata": {},
   "outputs": [],
   "source": [
    "for (quantile in quantiles) { \n",
    "    for (sample in samples) {\n",
    "        assign(paste(sample, \"q\", quantile, sep=\"\"), summary(rq(Y1 ~ X1, data = s11, quantile)))\n",
    "        quantmodels <- append(quantmodels, paste(sample, \"q\", quantile, sep=\"\"))\n",
    "    }\n",
    "}"
   ]
  },
  {
   "cell_type": "code",
   "execution_count": 191,
   "metadata": {},
   "outputs": [
    {
     "data": {
      "text/plain": [
       "\n",
       "Call: rq(formula = Y1 ~ X1, tau = quantile, data = s11)\n",
       "\n",
       "tau: [1] 0.05\n",
       "\n",
       "Coefficients:\n",
       "            coefficients   lower bd       upper bd      \n",
       "(Intercept)   1.600000e+00 -1.797693e+308   2.859450e+00\n",
       "X1            4.600000e-01 -1.797693e+308  1.797693e+308"
      ]
     },
     "metadata": {},
     "output_type": "display_data"
    }
   ],
   "source": [
    "summary(s11q0.05)"
   ]
  },
  {
   "cell_type": "code",
   "execution_count": 217,
   "metadata": {},
   "outputs": [
    {
     "data": {
      "text/html": [
       "<ol>\n",
       "\t<li>'s11q0.05'</li>\n",
       "</ol>\n"
      ],
      "text/latex": [
       "\\begin{enumerate}\n",
       "\\item 's11q0.05'\n",
       "\\end{enumerate}\n"
      ],
      "text/markdown": [
       "1. 's11q0.05'\n",
       "\n",
       "\n"
      ],
      "text/plain": [
       "[[1]]\n",
       "[1] \"s11q0.05\"\n"
      ]
     },
     "metadata": {},
     "output_type": "display_data"
    }
   ],
   "source": []
  }
 ],
 "metadata": {
  "hide_input": false,
  "kernelspec": {
   "display_name": "R",
   "language": "R",
   "name": "ir"
  },
  "language_info": {
   "codemirror_mode": "r",
   "file_extension": ".r",
   "mimetype": "text/x-r-source",
   "name": "R",
   "pygments_lexer": "r",
   "version": "3.6.1"
  }
 },
 "nbformat": 4,
 "nbformat_minor": 2
}
