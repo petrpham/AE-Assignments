{
 "cells": [
  {
   "cell_type": "markdown",
   "metadata": {},
   "source": [
    "**PROBLEM 2**\n",
    "\n",
    "When finding the estimates for quantile regression out task is to minimize function: \n",
    "\n",
    "$F(\\beta(q)| y, X)=\\sum_{i:e_{i,q}\t\\geq 0} q|y_i-x'_i\\beta(q)|+\\sum_{i:e_{i,q}\t\\geq 0} (1+q)|y_i-x'_i\\beta(q)|$ where $e_{i,q}=y_i+x'_i\\beta(q)$. Let us apply this logic to the information from the setup. $F(\\beta(q)| y, X)=\\sum_{i:e_{i,q}\t\\geq 0} q|educ_i * \\frac{e_{i,q}}{10}|+\\sum_{i:e_{i,q}\t\\geq 0} (1+q)|educ_i * \\frac{e_{i,q}}{10}|$. \n",
    "\n",
    "To minimize such a function we have to find the best constellation of variables from the function, i.e. $e_{i,q}, educ_i$ which works with preset $q$. \n",
    "We know that $q$ is between 0 and 1, therefore positive and the second part of the multiplication is in absolute value. The minimum value of the function $F$ can be desired with either $q$ or the absolute value set equal zero. \n",
    "\n",
    "In our case the estimates (derived from minimized function $F$) differ based on $q$ (up to our decision) and term $educ_i$, this changes their values. \n",
    "\n",
    "Naturally, if $q$ is changed estimates of $\\beta(q)$ change, but in our opinion if we scale the data by a scalar $s$ the effect desribed by $\\beta$ shall not change (based on basic econometric theory), but in our case the estimates will change. "
   ]
  },
  {
   "cell_type": "code",
   "execution_count": 460,
   "metadata": {},
   "outputs": [],
   "source": [
    "require(quantreg)\n",
    "require(stargazer)\n",
    "require(ggplot2)\n",
    "require(gridExtra)"
   ]
  },
  {
   "cell_type": "code",
   "execution_count": 526,
   "metadata": {},
   "outputs": [],
   "source": [
    "set.seed(666)\n",
    "\n",
    "n = 500\n",
    "m = 0\n",
    "educ_range = c(1:10)\n",
    "educ = sample(educ_range, n, replace = T)\n",
    "epsilon = rnorm(n, sd=200) "
   ]
  },
  {
   "cell_type": "code",
   "execution_count": 527,
   "metadata": {},
   "outputs": [],
   "source": [
    "incomehetero = 4000 + 200 * educ + educ * epsilon/10 \n",
    "dfhetero <- data.frame(incomehetero, educ, educ*epsilon/10)"
   ]
  },
  {
   "cell_type": "code",
   "execution_count": 528,
   "metadata": {},
   "outputs": [],
   "source": [
    "incomehomo = 4000 + 200 * educ + epsilon/10\n",
    "dfhomo <- data.frame(incomehomo, educ, epsilon/10)"
   ]
  },
  {
   "cell_type": "code",
   "execution_count": 529,
   "metadata": {},
   "outputs": [
    {
     "data": {
      "image/png": "[encoded data removed]",
      "text/plain": [
       "plot without title"
      ]
     },
     "metadata": {},
     "output_type": "display_data"
    }
   ],
   "source": [
    "plothetero <- ggplot(dfhetero, aes(x = educ, y = incomehetero)) + geom_point(color = \"blue\")\n",
    "plothomo <- ggplot(dfhomo, aes(x = educ, y = incomehomo)) + geom_point(color = \"blue\")\n",
    "grid.arrange(plothetero, plothomo, ncol= 1)"
   ]
  },
  {
   "cell_type": "code",
   "execution_count": 530,
   "metadata": {
    "cell_style": "center"
   },
   "outputs": [],
   "source": [
    "heteromodel_25<-rq(incomehetero ~ educ, data = dfhetero,0.25)\n",
    "heteromodel_50<-rq(incomehetero ~ educ, data = dfhetero,0.50)\n",
    "heteromodel_75<-rq(incomehetero ~ educ, data = dfhetero,0.75)"
   ]
  },
  {
   "cell_type": "code",
   "execution_count": 531,
   "metadata": {},
   "outputs": [],
   "source": [
    "homomodel_25<-rq(incomehomo ~ educ, data = dfhomo,0.25)\n",
    "homomodel_50<-rq(incomehomo ~ educ, data = dfhomo,0.50)\n",
    "homomodel_75<-rq(incomehomo ~ educ, data = dfhomo,0.75)"
   ]
  },
  {
   "cell_type": "code",
   "execution_count": 532,
   "metadata": {
    "cell_style": "split"
   },
   "outputs": [
    {
     "name": "stdout",
     "output_type": "stream",
     "text": [
      "\n",
      "Quantile Regression: Heteroscedasticity\n",
      "=======================================================\n",
      "                        Dependent variable:            \n",
      "             ------------------------------------------\n",
      "                               Income                  \n",
      "             First quartile    Median    Third quartile\n",
      "                  (1)           (2)           (3)      \n",
      "-------------------------------------------------------\n",
      "Education      186.992***    203.809***    215.287***  \n",
      "                (2.199)       (1.956)       (2.320)    \n",
      "                                                       \n",
      "Intercept     3,995.916***  3,991.454***  3,996.768*** \n",
      "                (4.852)       (6.078)       (8.285)    \n",
      "                                                       \n",
      "-------------------------------------------------------\n",
      "Observations      500           500           500      \n",
      "=======================================================\n",
      "Note:                       *p<0.1; **p<0.05; ***p<0.01\n"
     ]
    }
   ],
   "source": [
    "stargazer(heteromodel_25, heteromodel_50, heteromodel_75, title = \"Quantile Regression: Heteroscedasticity\",\n",
    "          column.labels = c(\"First quartile\", \"Median\", \"Third quartile\"),\n",
    "          covariate.labels = c(\"Education\", \"Intercept\"), dep.var.labels=c('Income'), type = \"text\")"
   ]
  },
  {
   "cell_type": "code",
   "execution_count": 533,
   "metadata": {
    "cell_style": "split"
   },
   "outputs": [
    {
     "name": "stdout",
     "output_type": "stream",
     "text": [
      "\n",
      "Quantile Regression: Homoscedasticity\n",
      "=======================================================\n",
      "                        Dependent variable:            \n",
      "             ------------------------------------------\n",
      "                               Income                  \n",
      "             First quartile    Median    Third quartile\n",
      "                  (1)           (2)           (3)      \n",
      "-------------------------------------------------------\n",
      "Education      200.211***    200.653***    200.205***  \n",
      "                (0.434)       (0.386)       (0.510)    \n",
      "                                                       \n",
      "Intercept     3,984.622***  3,997.096***  4,013.084*** \n",
      "                (2.483)       (2.586)       (3.543)    \n",
      "                                                       \n",
      "-------------------------------------------------------\n",
      "Observations      500           500           500      \n",
      "=======================================================\n",
      "Note:                       *p<0.1; **p<0.05; ***p<0.01\n"
     ]
    }
   ],
   "source": [
    "stargazer(homomodel_25, homomodel_50, homomodel_75, title = \"Quantile Regression: Homoscedasticity\",\n",
    "          column.labels = c(\"First quartile\", \"Median\", \"Third quartile\"),\n",
    "          covariate.labels = c(\"Education\", \"Intercept\"), dep.var.labels=c('Income'), type = \"text\")"
   ]
  },
  {
   "cell_type": "markdown",
   "metadata": {},
   "source": [
    "**Commentary** <br>\n",
    "We have run three quantile regressions (for all 3 quartiles) for both datasets with(out) heteroscedastic errors. <br> \n",
    "Regarding the homoscedastic dataset, the coefficient of education does not shift significantly (small shifts are due to sampling of educ values), however the intercept does. \n",
    "In case of the heteroscedastic dataset, the coefficient of education is positively correlated with the chosen quantile. We can also observe small changes in the intercept.\n",
    "\n",
    "We have to bear in mind that the relationship between educ and income was already specified and is linear. Thus, the shift in the coefficient is purely due to heteroscedasticity. If the relationship was non-linear we would not be able to distinguish whether the shift of coefficients is due to heteroscedasticity or nonlinearity. Thus, if a non-linear relationship was found between an independent and the dependent variable, we would end up in the same situation as if we were using OLS and the solution to solve such problems would be quite similar (a better specification of the model, polynomials etc.). \n",
    "\n",
    "This is also shown graphically below. The three regressions lines are parallel in case of the homoscedastic dataset, i.e. the coefficient of education remains the same and the visible change is seen in the intercept. Whereas in heteroscadastic dataset, the lines are not parallel and will cross at a given point."
   ]
  },
  {
   "cell_type": "code",
   "execution_count": 534,
   "metadata": {},
   "outputs": [],
   "source": [
    "plothetero <- ggplot(dfhetero, aes(x = educ, y = incomehetero)) + geom_point(color = \"blue\") + geom_abline(intercept = heteromodel_25$coefficients[1], slope = heteromodel_25$coefficients[2], colour = \"red\")\n",
    "plothetero <- plothetero + geom_abline(intercept = heteromodel_50$coefficients[1], slope = heteromodel_50$coefficients[2], colour = \"red\")\n",
    "plothetero <- plothetero + geom_abline(intercept = heteromodel_75$coefficients[1], slope = heteromodel_75$coefficients[2], colour = \"red\")"
   ]
  },
  {
   "cell_type": "code",
   "execution_count": 535,
   "metadata": {},
   "outputs": [],
   "source": [
    "plothomo <- ggplot(dfhomo, aes(x = educ, y = incomehomo)) + geom_point(color = \"blue\") + geom_abline(intercept = homomodel_25$coefficients[1], slope = homomodel_25$coefficients[2], colour = \"red\")\n",
    "plothomo <- plothomo + geom_abline(intercept = homomodel_50$coefficients[1], slope = homomodel_50$coefficients[2], colour = \"red\")\n",
    "plothomo <- plothomo + geom_abline(intercept = homomodel_75$coefficients[1], slope = homomodel_75$coefficients[2], colour = \"red\")"
   ]
  },
  {
   "cell_type": "code",
   "execution_count": 536,
   "metadata": {},
   "outputs": [
    {
     "data": {
      "image/png": "[encoded data removed]",
      "text/plain": [
       "plot without title"
      ]
     },
     "metadata": {},
     "output_type": "display_data"
    }
   ],
   "source": [
    "grid.arrange(plothetero, plothomo, ncol= 1)"
   ]
  },
  {
   "cell_type": "code",
   "execution_count": 541,
   "metadata": {},
   "outputs": [
    {
     "data": {
      "image/png": "[encoded data removed]",
      "text/plain": [
       "Plot with title \"educ\""
      ]
     },
     "metadata": {},
     "output_type": "display_data"
    }
   ],
   "source": [
    "df <- dfhetero[1:2]\n",
    "options(repr.plot.width=4, repr.plot.height=6)\n",
    "plot(summary(rq(incomehetero ~ (educ), data=df, tau=seq(from=0.05, to=0.95, by=0.05))))"
   ]
  },
  {
   "cell_type": "code",
   "execution_count": 542,
   "metadata": {},
   "outputs": [
    {
     "data": {
      "image/png": "[encoded data removed]",
      "text/plain": [
       "Plot with title \"educ\""
      ]
     },
     "metadata": {},
     "output_type": "display_data"
    }
   ],
   "source": [
    "df <- dfhomo[1:2]\n",
    "options(repr.plot.width=4, repr.plot.height=6)\n",
    "plot(summary(rq(incomehomo ~ (educ), data=df, tau=seq(from=0.05, to=0.95, by=0.05))))"
   ]
  },
  {
   "cell_type": "code",
   "execution_count": null,
   "metadata": {},
   "outputs": [],
   "source": []
  },
  {
   "cell_type": "code",
   "execution_count": null,
   "metadata": {},
   "outputs": [],
   "source": []
  },
  {
   "cell_type": "code",
   "execution_count": null,
   "metadata": {},
   "outputs": [],
   "source": []
  },
  {
   "cell_type": "code",
   "execution_count": null,
   "metadata": {},
   "outputs": [],
   "source": []
  },
  {
   "cell_type": "code",
   "execution_count": null,
   "metadata": {},
   "outputs": [],
   "source": []
  },
  {
   "cell_type": "code",
   "execution_count": null,
   "metadata": {},
   "outputs": [],
   "source": []
  }
 ],
 "metadata": {
  "hide_input": false,
  "kernelspec": {
   "display_name": "R",
   "language": "R",
   "name": "ir"
  },
  "language_info": {
   "codemirror_mode": "r",
   "file_extension": ".r",
   "mimetype": "text/x-r-source",
   "name": "R",
   "pygments_lexer": "r",
   "version": "3.6.1"
  }
 },
 "nbformat": 4,
 "nbformat_minor": 2
}
