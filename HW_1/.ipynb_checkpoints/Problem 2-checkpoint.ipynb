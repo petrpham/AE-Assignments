{
 "cells": [
  {
   "cell_type": "markdown",
   "metadata": {},
   "source": [
    "**PROBLEM 2**"
   ]
  },
  {
   "cell_type": "code",
   "execution_count": 4,
   "metadata": {},
   "outputs": [
    {
     "name": "stderr",
     "output_type": "stream",
     "text": [
      "Loading required package: quantreg\n",
      "Loading required package: SparseM\n",
      "\n",
      "Attaching package: 'SparseM'\n",
      "\n",
      "The following object is masked from 'package:base':\n",
      "\n",
      "    backsolve\n",
      "\n",
      "Loading required package: stargazer\n",
      "\n",
      "Please cite as: \n",
      "\n",
      " Hlavac, Marek (2018). stargazer: Well-Formatted Regression and Summary Statistics Tables.\n",
      " R package version 5.2.2. https://CRAN.R-project.org/package=stargazer \n",
      "\n",
      "Loading required package: ggplot2\n",
      "Registered S3 methods overwritten by 'ggplot2':\n",
      "  method         from \n",
      "  [.quosures     rlang\n",
      "  c.quosures     rlang\n",
      "  print.quosures rlang\n",
      "Loading required package: gridExtra\n"
     ]
    }
   ],
   "source": [
    "require(quantreg)\n",
    "require(stargazer)\n",
    "require(ggplot2)\n",
    "require(gridExtra)"
   ]
  },
  {
   "cell_type": "markdown",
   "metadata": {},
   "source": [
    "We have to bear in mind that the relationship between education and income was already specified and is linear. Now, if the conditional distribution of income given education is the same for every level income, i.e. the error terms are homoscedastic, we should not see a shift in the coefficient of education. We should however see a shift in the intercept with different quantiles depending on the variance of the error terms.\n",
    "\n",
    "However, the error terms are positively correlated with education and thus their variability is unequal. This larger variety of income with higher education will result in shifts in the education coefficient. It also should be purely due to heteroscedasticity as the relationship between the two variables is linear, as already stated.\n",
    "\n",
    "For example, if the relationship was non-linear we would not be able to distinguish whether the shift of coefficients is due to heteroscedasticity or nonlinearity. Thus, if a non-linear relationship was found between an independent and the dependent variable, we would end up in the same situation as if we were using OLS and the solution to solve such problems would be quite similar (a better specification of the model, polynomials etc.)."
   ]
  },
  {
   "cell_type": "markdown",
   "metadata": {},
   "source": [
    "Thus, we will simulate the data and show the relationship between our two variables via a scatter plot."
   ]
  },
  {
   "cell_type": "code",
   "execution_count": 2,
   "metadata": {},
   "outputs": [],
   "source": [
    "set.seed(666)\n",
    "\n",
    "n = 500\n",
    "m = 0\n",
    "educ_range = c(1:10)\n",
    "educ = sample(educ_range, n, replace = T)\n",
    "epsilon = rnorm(n, sd=200) "
   ]
  },
  {
   "cell_type": "code",
   "execution_count": 3,
   "metadata": {},
   "outputs": [],
   "source": [
    "incomehetero = 4000 + 200 * educ + educ * epsilon/10 \n",
    "dfhetero <- data.frame(incomehetero, educ, educ*epsilon/10)"
   ]
  },
  {
   "cell_type": "code",
   "execution_count": 4,
   "metadata": {},
   "outputs": [],
   "source": [
    "incomehomo = 4000 + 200 * educ + epsilon/10\n",
    "dfhomo <- data.frame(incomehomo, educ, epsilon/10)"
   ]
  },
  {
   "cell_type": "code",
   "execution_count": 70,
   "metadata": {},
   "outputs": [
    {
     "data": {
      "image/png": "[encoded data removed]",
      "text/plain": [
       "plot without title"
      ]
     },
     "metadata": {},
     "output_type": "display_data"
    }
   ],
   "source": [
    "plothetero <- ggplot(dfhetero, aes(x = educ, y = incomehetero)) + geom_point(color = \"blue\")\n",
    "plothomo <- ggplot(dfhomo, aes(x = educ, y = incomehomo)) + geom_point(color = \"blue\")\n",
    "grid.arrange(plothetero, plothomo, ncol= 1)"
   ]
  },
  {
   "cell_type": "markdown",
   "metadata": {},
   "source": [
    "We will now run three quantile regressions (for all 3 quartiles) for both datasets with(out) heteroscedastic errors. <br> "
   ]
  },
  {
   "cell_type": "code",
   "execution_count": 60,
   "metadata": {
    "cell_style": "center"
   },
   "outputs": [],
   "source": [
    "heteromodel_25<-rq(incomehetero ~ educ, data = dfhetero,0.25)\n",
    "heteromodel_50<-rq(incomehetero ~ educ, data = dfhetero,0.50)\n",
    "heteromodel_75<-rq(incomehetero ~ educ, data = dfhetero,0.75)"
   ]
  },
  {
   "cell_type": "code",
   "execution_count": 61,
   "metadata": {},
   "outputs": [],
   "source": [
    "homomodel_25<-rq(incomehomo ~ educ, data = dfhomo,0.25)\n",
    "homomodel_50<-rq(incomehomo ~ educ, data = dfhomo,0.50)\n",
    "homomodel_75<-rq(incomehomo ~ educ, data = dfhomo,0.75)"
   ]
  },
  {
   "cell_type": "code",
   "execution_count": 62,
   "metadata": {
    "cell_style": "split"
   },
   "outputs": [
    {
     "name": "stdout",
     "output_type": "stream",
     "text": [
      "\n",
      "Quantile Regression: Heteroscedasticity\n",
      "=======================================================\n",
      "                        Dependent variable:            \n",
      "             ------------------------------------------\n",
      "                               Income                  \n",
      "             First quartile    Median    Third quartile\n",
      "                  (1)           (2)           (3)      \n",
      "-------------------------------------------------------\n",
      "Education      202.800***    206.176***    211.607***  \n",
      "                (0.401)       (0.651)       (1.145)    \n",
      "                                                       \n",
      "Intercept     3,999.100***  4,000.491***  3,999.971*** \n",
      "                (1.112)       (1.789)       (3.763)    \n",
      "                                                       \n",
      "-------------------------------------------------------\n",
      "Observations      500           500           500      \n",
      "=======================================================\n",
      "Note:                       *p<0.1; **p<0.05; ***p<0.01\n"
     ]
    }
   ],
   "source": [
    "stargazer(heteromodel_25, heteromodel_50, heteromodel_75, title = \"Quantile Regression: Heteroscedasticity\",\n",
    "          column.labels = c(\"First quartile\", \"Median\", \"Third quartile\"),\n",
    "          covariate.labels = c(\"Education\", \"Intercept\"), dep.var.labels=c('Income'), type = \"text\")"
   ]
  },
  {
   "cell_type": "code",
   "execution_count": 63,
   "metadata": {
    "cell_style": "split"
   },
   "outputs": [
    {
     "name": "stdout",
     "output_type": "stream",
     "text": [
      "\n",
      "Quantile Regression: Homoscedasticity\n",
      "=======================================================\n",
      "                        Dependent variable:            \n",
      "             ------------------------------------------\n",
      "                               Income                  \n",
      "             First quartile    Median    Third quartile\n",
      "                  (1)           (2)           (3)      \n",
      "-------------------------------------------------------\n",
      "Education      200.099***    199.971***    200.004***  \n",
      "                (0.075)       (0.134)       (0.256)    \n",
      "                                                       \n",
      "Intercept     4,001.978***  4,006.465***  4,011.574*** \n",
      "                (0.451)       (0.812)       (1.763)    \n",
      "                                                       \n",
      "-------------------------------------------------------\n",
      "Observations      500           500           500      \n",
      "=======================================================\n",
      "Note:                       *p<0.1; **p<0.05; ***p<0.01\n"
     ]
    }
   ],
   "source": [
    "stargazer(homomodel_25, homomodel_50, homomodel_75, title = \"Quantile Regression: Homoscedasticity\",\n",
    "          column.labels = c(\"First quartile\", \"Median\", \"Third quartile\"),\n",
    "          covariate.labels = c(\"Education\", \"Intercept\"), dep.var.labels=c('Income'), type = \"text\")"
   ]
  },
  {
   "cell_type": "markdown",
   "metadata": {},
   "source": [
    "**Comments** <br>\n",
    "Regarding the homoscedastic dataset, the coefficient of education does not shift significantly (small shifts are due to sampling of educ values), however the intercept does. \n",
    "In case of the heteroscedastic dataset, the coefficient of education is positively correlated with the chosen quantile. We can also observe small changes in the intercept.\n",
    "\n",
    "This is also shown graphically below. The three regressions lines are parallel in case of the homoscedastic dataset, i.e. the coefficient of education remains the same and the visible change is seen in the intercept. Whereas in heteroscadastic dataset, the lines are not parallel and will cross at a given point."
   ]
  },
  {
   "cell_type": "code",
   "execution_count": 64,
   "metadata": {},
   "outputs": [],
   "source": [
    "plothetero <- ggplot(dfhetero, aes(x = educ, y = incomehetero)) + geom_point(color = \"blue\") + geom_abline(intercept = heteromodel_25$coefficients[1], slope = heteromodel_25$coefficients[2], colour = \"red\")\n",
    "plothetero <- plothetero + geom_abline(intercept = heteromodel_50$coefficients[1], slope = heteromodel_50$coefficients[2], colour = \"red\")\n",
    "plothetero <- plothetero + geom_abline(intercept = heteromodel_75$coefficients[1], slope = heteromodel_75$coefficients[2], colour = \"red\")"
   ]
  },
  {
   "cell_type": "code",
   "execution_count": 65,
   "metadata": {},
   "outputs": [],
   "source": [
    "plothomo <- ggplot(dfhomo, aes(x = educ, y = incomehomo)) + geom_point(color = \"blue\") + geom_abline(intercept = homomodel_25$coefficients[1], slope = homomodel_25$coefficients[2], colour = \"red\")\n",
    "plothomo <- plothomo + geom_abline(intercept = homomodel_50$coefficients[1], slope = homomodel_50$coefficients[2], colour = \"red\")\n",
    "plothomo <- plothomo + geom_abline(intercept = homomodel_75$coefficients[1], slope = homomodel_75$coefficients[2], colour = \"red\")"
   ]
  },
  {
   "cell_type": "code",
   "execution_count": 66,
   "metadata": {},
   "outputs": [
    {
     "data": {
      "image/png": "[encoded data removed]",
      "text/plain": [
       "plot without title"
      ]
     },
     "metadata": {},
     "output_type": "display_data"
    }
   ],
   "source": [
    "grid.arrange(plothetero, plothomo, ncol= 1)"
   ]
  },
  {
   "cell_type": "code",
   "execution_count": 541,
   "metadata": {},
   "outputs": [
    {
     "data": {
      "image/png": "[encoded data removed]",
      "text/plain": [
       "Plot with title \"educ\""
      ]
     },
     "metadata": {},
     "output_type": "display_data"
    }
   ],
   "source": [
    "df <- dfhetero[1:2]\n",
    "options(repr.plot.width=4, repr.plot.height=6)\n",
    "plot(summary(rq(incomehetero ~ (educ), data=df, tau=seq(from=0.05, to=0.95, by=0.05))))"
   ]
  },
  {
   "cell_type": "code",
   "execution_count": 542,
   "metadata": {},
   "outputs": [
    {
     "data": {
      "image/png": "[encoded data removed]",
      "text/plain": [
       "Plot with title \"educ\""
      ]
     },
     "metadata": {},
     "output_type": "display_data"
    }
   ],
   "source": [
    "df <- dfhomo[1:2]\n",
    "options(repr.plot.width=4, repr.plot.height=6)\n",
    "plot(summary(rq(incomehomo ~ (educ), data=df, tau=seq(from=0.05, to=0.95, by=0.05))))"
   ]
  }
 ],
 "metadata": {
  "hide_input": false,
  "kernelspec": {
   "display_name": "R",
   "language": "R",
   "name": "ir"
  },
  "language_info": {
   "codemirror_mode": "r",
   "file_extension": ".r",
   "mimetype": "text/x-r-source",
   "name": "R",
   "pygments_lexer": "r",
   "version": "3.6.1"
  }
 },
 "nbformat": 4,
 "nbformat_minor": 2
}
