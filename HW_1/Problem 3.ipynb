{
 "cells": [
  {
   "cell_type": "markdown",
   "metadata": {},
   "source": [
    "# Problem 3"
   ]
  },
  {
   "cell_type": "code",
   "execution_count": 3,
   "metadata": {},
   "outputs": [
    {
     "name": "stderr",
     "output_type": "stream",
     "text": [
      "Loading required package: maxLik\n",
      "Loading required package: miscTools\n",
      "\n",
      "Please cite the 'maxLik' package as:\n",
      "Henningsen, Arne and Toomet, Ott (2011). maxLik: A package for maximum likelihood estimation in R. Computational Statistics 26(3), 443-458. DOI 10.1007/s00180-010-0217-1.\n",
      "\n",
      "If you have questions, suggestions, or comments regarding the 'maxLik' package, please use a forum or 'tracker' at maxLik's R-Forge site:\n",
      "https://r-forge.r-project.org/projects/maxlik/\n"
     ]
    }
   ],
   "source": [
    "require(maxLik)"
   ]
  },
  {
   "cell_type": "code",
   "execution_count": 4,
   "metadata": {},
   "outputs": [],
   "source": [
    "#1/ Simulation: exponential distribution lambda = 0.5"
   ]
  },
  {
   "cell_type": "markdown",
   "metadata": {},
   "source": [
    "We will firstly generate 42, 168 and 672 data points from the exponential distribution setting $\\lambda$ = 0.5, respectively."
   ]
  },
  {
   "cell_type": "code",
   "execution_count": 5,
   "metadata": {},
   "outputs": [],
   "source": [
    "set.seed(666)\n",
    "n <- c(42, 168, 672)\n",
    "exponential_s <- rexp(n[1], 0.5)\n",
    "exponential_m <- rexp(n[2], 0.5)\n",
    "exponential_l <- rexp(n[3], 0.5)"
   ]
  },
  {
   "cell_type": "code",
   "execution_count": 6,
   "metadata": {},
   "outputs": [],
   "source": [
    "#2/ MLE Exponential distribution"
   ]
  },
  {
   "cell_type": "markdown",
   "metadata": {},
   "source": [
    "Secondly, we will define the log-likelihood functions and estimate the parameter $\\lambda$ for all three samples (small, medium and large denoted with an underscore and a respective first letter)"
   ]
  },
  {
   "cell_type": "code",
   "execution_count": 7,
   "metadata": {},
   "outputs": [],
   "source": [
    "logLikFun_s <- function(param) {\n",
    "  if (param <= 0) {\n",
    "    return(NA)\n",
    "  }\n",
    "  return(n[1]*log(param) - param*sum(exponential_s))\n",
    "}\n",
    "\n",
    "logLikFun_m <- function(param) {\n",
    "  if (param <= 0) {\n",
    "    return(NA)\n",
    "  }\n",
    "  return(n[2]*log(param) - param*sum(exponential_m))\n",
    "}\n",
    "\n",
    "logLikFun_l <- function(param) {\n",
    "  if (param <= 0) {\n",
    "    return(NA)\n",
    "  }\n",
    "  return(n[3]*log(param) - param*sum(exponential_l))\n",
    "}"
   ]
  },
  {
   "cell_type": "code",
   "execution_count": 8,
   "metadata": {},
   "outputs": [],
   "source": [
    "mle_s <- maxLik(logLikFun_s, start = c(lambda = 1))\n",
    "model_s <- summary(mle_s) # model - assuming exponential distribution\n",
    "\n",
    "mle_m <- maxLik(logLikFun_m, start = c(lambda = 1))\n",
    "model_m <- summary(mle_m) # model - assuming exponential distribution\n",
    "\n",
    "mle_l <- maxLik(logLikFun_l, start = c(lambda = 1))\n",
    "model_l <- summary(mle_l) # model - assuming exponential distribution"
   ]
  },
  {
   "cell_type": "code",
   "execution_count": 9,
   "metadata": {},
   "outputs": [
    {
     "data": {
      "text/plain": [
       "--------------------------------------------\n",
       "Maximum Likelihood estimation\n",
       "Newton-Raphson maximisation, 6 iterations\n",
       "Return code 1: gradient close to zero\n",
       "Log-Likelihood: -63.87516 \n",
       "1  free parameters\n",
       "Estimates:\n",
       "       Estimate Std. error t value  Pr(> t)    \n",
       "lambda  0.59402    0.09166   6.481 9.11e-11 ***\n",
       "---\n",
       "Signif. codes:  0 '***' 0.001 '**' 0.01 '*' 0.05 '.' 0.1 ' ' 1\n",
       "--------------------------------------------"
      ]
     },
     "metadata": {},
     "output_type": "display_data"
    },
    {
     "data": {
      "text/plain": [
       "--------------------------------------------\n",
       "Maximum Likelihood estimation\n",
       "Newton-Raphson maximisation, 4 iterations\n",
       "Return code 1: gradient close to zero\n",
       "Log-Likelihood: -274.0297 \n",
       "1  free parameters\n",
       "Estimates:\n",
       "       Estimate Std. error t value Pr(> t)    \n",
       "lambda  0.53199    0.04104   12.96  <2e-16 ***\n",
       "---\n",
       "Signif. codes:  0 '***' 0.001 '**' 0.01 '*' 0.05 '.' 0.1 ' ' 1\n",
       "--------------------------------------------"
      ]
     },
     "metadata": {},
     "output_type": "display_data"
    },
    {
     "data": {
      "text/plain": [
       "--------------------------------------------\n",
       "Maximum Likelihood estimation\n",
       "Newton-Raphson maximisation, 4 iterations\n",
       "Return code 1: gradient close to zero\n",
       "Log-Likelihood: -1107.816 \n",
       "1  free parameters\n",
       "Estimates:\n",
       "       Estimate Std. error t value Pr(> t)    \n",
       "lambda  0.52281    0.02017   25.92  <2e-16 ***\n",
       "---\n",
       "Signif. codes:  0 '***' 0.001 '**' 0.01 '*' 0.05 '.' 0.1 ' ' 1\n",
       "--------------------------------------------"
      ]
     },
     "metadata": {},
     "output_type": "display_data"
    }
   ],
   "source": [
    "model_s\n",
    "model_m\n",
    "model_l"
   ]
  },
  {
   "cell_type": "markdown",
   "metadata": {},
   "source": [
    "With an increasing number of data points, we can see that we are approaching the true value of $\\lambda$, with 0.52 being the closest estimate (large sample)."
   ]
  },
  {
   "cell_type": "code",
   "execution_count": 10,
   "metadata": {},
   "outputs": [],
   "source": [
    "#2/ MLE Gamma distribution"
   ]
  },
  {
   "cell_type": "markdown",
   "metadata": {},
   "source": [
    "Firstly we have to specify the log-likelihood function of the gamma distribution, which is as following:\n",
    "$$[(\\alpha-1)*\\sum\\limits_{i=1}^n ln {(x_{i})}] + [n*\\alpha*ln (\\beta)]-[n*ln {(\\alpha-1)!}]-\\beta*\\sum\\limits_{i=1}^n x_{i} $$\n",
    "\n",
    "Subsequently we will estimate the parameters of the gamma distribution. The exponential distribution is a special case of the gamma distribution, where $\\alpha$ = 1 and $\\beta$ = $\\lambda$. Thus, these are the true parameters we will try to estimate."
   ]
  },
  {
   "cell_type": "code",
   "execution_count": 11,
   "metadata": {},
   "outputs": [],
   "source": [
    "logLikFun_sg <- function(param) {\n",
    "    if (param[1] <= 0) return(NA)\n",
    "    if (param[2] <= 0) return(NA)\n",
    "  return((param[1]-1)*sum(log(exponential_s))+n[1]*param[1]*log(param[2])-n[1]*log(gamma(param[1]))-param[2]*sum(exponential_s))\n",
    "}\n",
    "\n",
    "logLikFun_mg <- function(param) {\n",
    "    if (param[1] <= 0) return(NA)\n",
    "    if (param[2] <= 0) return(NA)\n",
    "  return((param[1]-1)*sum(log(exponential_m))+n[2]*param[1]*log(param[2])-n[2]*log(gamma(param[1]))-param[2]*sum(exponential_m))\n",
    "}\n",
    "\n",
    "logLikFun_lg <- function(param) {\n",
    "    if (param[1] <= 0) return(NA)\n",
    "    if (param[2] <= 0) return(NA)\n",
    "  return((param[1]-1)*sum(log(exponential_l))+n[3]*param[1]*log(param[2])-n[3]*log(gamma(param[1]))-param[2]*sum(exponential_l))\n",
    "}"
   ]
  },
  {
   "cell_type": "code",
   "execution_count": 12,
   "metadata": {},
   "outputs": [],
   "source": [
    "mle_sg <- maxLik(logLikFun_sg, start = c(alpha = 0.5, beta=0.5))\n",
    "model_sg <- summary(mle_sg)\n",
    "mle_mg <- maxLik(logLikFun_mg, start = c(alpha = 0.5, beta=0.5))\n",
    "model_mg <- summary(mle_mg)\n",
    "mle_lg <- maxLik(logLikFun_lg, start = c(alpha = 0.5, beta=0.5))\n",
    "model_lg <- summary(mle_lg)"
   ]
  },
  {
   "cell_type": "code",
   "execution_count": 13,
   "metadata": {},
   "outputs": [
    {
     "data": {
      "text/plain": [
       "--------------------------------------------\n",
       "Maximum Likelihood estimation\n",
       "Newton-Raphson maximisation, 6 iterations\n",
       "Return code 1: gradient close to zero\n",
       "Log-Likelihood: -62.66413 \n",
       "2  free parameters\n",
       "Estimates:\n",
       "      Estimate Std. error t value  Pr(> t)    \n",
       "alpha   0.7556     0.1415   5.339 9.35e-08 ***\n",
       "beta    0.4489     0.1158   3.875 0.000107 ***\n",
       "---\n",
       "Signif. codes:  0 '***' 0.001 '**' 0.01 '*' 0.05 '.' 0.1 ' ' 1\n",
       "--------------------------------------------"
      ]
     },
     "metadata": {},
     "output_type": "display_data"
    },
    {
     "data": {
      "text/plain": [
       "--------------------------------------------\n",
       "Maximum Likelihood estimation\n",
       "Newton-Raphson maximisation, 6 iterations\n",
       "Return code 2: successive function values within tolerance limit\n",
       "Log-Likelihood: -272.6147 \n",
       "2  free parameters\n",
       "Estimates:\n",
       "      Estimate Std. error t value Pr(> t)    \n",
       "alpha  1.18263    0.11529  10.257  <2e-16 ***\n",
       "beta   0.62915    0.07586   8.293  <2e-16 ***\n",
       "---\n",
       "Signif. codes:  0 '***' 0.001 '**' 0.01 '*' 0.05 '.' 0.1 ' ' 1\n",
       "--------------------------------------------"
      ]
     },
     "metadata": {},
     "output_type": "display_data"
    },
    {
     "data": {
      "text/plain": [
       "--------------------------------------------\n",
       "Maximum Likelihood estimation\n",
       "Newton-Raphson maximisation, 7 iterations\n",
       "Return code 1: gradient close to zero\n",
       "Log-Likelihood: -1107.805 \n",
       "2  free parameters\n",
       "Estimates:\n",
       "      Estimate Std. error t value Pr(> t)    \n",
       "alpha  1.00722    0.04841   20.80  <2e-16 ***\n",
       "beta   0.52659    0.03241   16.25  <2e-16 ***\n",
       "---\n",
       "Signif. codes:  0 '***' 0.001 '**' 0.01 '*' 0.05 '.' 0.1 ' ' 1\n",
       "--------------------------------------------"
      ]
     },
     "metadata": {},
     "output_type": "display_data"
    }
   ],
   "source": [
    "model_sg\n",
    "model_mg\n",
    "model_lg"
   ]
  },
  {
   "cell_type": "markdown",
   "metadata": {},
   "source": [
    "Again, we can see that our estimates are more precise with an increasing number of data points."
   ]
  },
  {
   "cell_type": "code",
   "execution_count": 157,
   "metadata": {},
   "outputs": [],
   "source": [
    "#4a/ Likelihood ratio test"
   ]
  },
  {
   "cell_type": "markdown",
   "metadata": {},
   "source": [
    "We would like to test the following null hypothesis:\n",
    "\n",
    "$$H_{0}: \\alpha = 1$$\n",
    "\n",
    "Firstly, we will use the likelihood ratio test, where the LR test statistic is equal to\n",
    "\n",
    "$$-2*(ln {L_{R}}- ln {L_{U}})$$\n",
    "\n",
    "We are basically comparing the log-likelihoods of (un)restricted models. The distribution of the LR statistic comes from a chi-squared distribution under the null hypothesis, where the degrees of freedom is equal to the number of restrictions. Thus, if the difference in the log-likelihood is large, we would reject the null hypothesis. In our case, only 1 restriction is imposed.\n",
    "\n"
   ]
  },
  {
   "cell_type": "code",
   "execution_count": 29,
   "metadata": {},
   "outputs": [
    {
     "name": "stdout",
     "output_type": "stream",
     "text": [
      "[1] \"p-value 0.119637727285661\"\n"
     ]
    }
   ],
   "source": [
    "#small sample\n",
    "lrstat <- -2*(model_s$loglik - model_sg$loglik)  # model_s - assuming exponential distribution - restricted,\n",
    "                                                # model_sg - assuming gamma distribution - unrestricted\n",
    "print(paste(\"p-value\",pchisq(lrstat, 1, lower.tail=F)))"
   ]
  },
  {
   "cell_type": "code",
   "execution_count": 30,
   "metadata": {},
   "outputs": [
    {
     "name": "stdout",
     "output_type": "stream",
     "text": [
      "[1] \"p-value 0.0925226202683306\"\n"
     ]
    }
   ],
   "source": [
    "# medium sample\n",
    "lrstat <- -2*(model_m$loglik - model_mg$loglik)  # model_m - assuming exponential distribution - restricted,\n",
    "                                                # model_mg - assuming gamma distribution - unrestricted\n",
    "print(paste(\"p-value\",pchisq(lrstat, 1, lower.tail=F)))"
   ]
  },
  {
   "cell_type": "code",
   "execution_count": 31,
   "metadata": {},
   "outputs": [
    {
     "name": "stdout",
     "output_type": "stream",
     "text": [
      "[1] \"p-value 0.881144874270125\"\n"
     ]
    }
   ],
   "source": [
    "# large sample\n",
    "lrstat <- -2*(model_l$loglik - model_lg$loglik)  # model_l - assuming exponential distribution - restricted,\n",
    "                                                # model_lg - assuming gamma distribution - unrestricted\n",
    "print(paste(\"p-value\",pchisq(lrstat, 1, lower.tail=F)))"
   ]
  },
  {
   "cell_type": "markdown",
   "metadata": {},
   "source": [
    "We can see that we cannot reject the null hypothesis at the 0.05 significance level for any of the three samples, i.e. that our data points come from an exponential distribution."
   ]
  },
  {
   "cell_type": "code",
   "execution_count": 21,
   "metadata": {},
   "outputs": [],
   "source": [
    "#4b/ Wald test"
   ]
  },
  {
   "cell_type": "markdown",
   "metadata": {},
   "source": [
    "Next, we will use the Wald test, where only the unrestricted model is needed (gamma distribution model), where we will compare our estimate $\\hat{\\alpha}$ with $\\alpha$ = 1 as stated in the null hypothesis.\n",
    "\n",
    "$$W=\\frac{(\\hat{\\alpha}-1)^2}{Var(\\hat{\\alpha})}$$\n",
    "\n",
    "The test statistics follows the chi-squared distribution with 1 degree of freedom under the null hypothesis. The idea behind the test is that the null hypothesis should be rejected if the difference between our parameter is large, while also bearing in mind our certainty in the estimation of our parameter.\n"
   ]
  },
  {
   "cell_type": "code",
   "execution_count": 34,
   "metadata": {},
   "outputs": [
    {
     "name": "stdout",
     "output_type": "stream",
     "text": [
      "[1] \"p-value 0.0842378065136979\"\n"
     ]
    }
   ],
   "source": [
    "#small sample\n",
    "es_sg <- model_sg$estimate[1,1]\n",
    "se_sg <- model_sg$estimate[1,2]\n",
    "wstat <- (es_sg-1)^2/(se_sg)^2 \n",
    "print(paste(\"p-value\", pchisq (wstat, 1, lower.tail=F)))"
   ]
  },
  {
   "cell_type": "code",
   "execution_count": 35,
   "metadata": {},
   "outputs": [
    {
     "name": "stdout",
     "output_type": "stream",
     "text": [
      "[1] \"p-value 0.11319332702774\"\n"
     ]
    }
   ],
   "source": [
    "# medium sample\n",
    "es_mg <- model_mg$estimate[1,1]\n",
    "se_mg <- model_mg$estimate[1,2]\n",
    "wstat <- (es_mg-1)^2/(se_mg)^2 \n",
    "print(paste(\"p-value\", pchisq (wstat, 1, lower.tail=F)))"
   ]
  },
  {
   "cell_type": "code",
   "execution_count": 36,
   "metadata": {},
   "outputs": [
    {
     "name": "stdout",
     "output_type": "stream",
     "text": [
      "[1] \"p-value 0.88145435358657\"\n"
     ]
    }
   ],
   "source": [
    "# large sample\n",
    "es_lg <- model_lg$estimate[1,1]\n",
    "se_lg <- model_lg$estimate[1,2]\n",
    "wstat <- (es_lg-1)^2/(se_lg)^2 \n",
    "print(paste(\"p-value\", pchisq (wstat, 1, lower.tail=F)))"
   ]
  },
  {
   "cell_type": "markdown",
   "metadata": {},
   "source": [
    "Again, we can see that we cannot reject the null hypothesis at the 0.05 significance level for any of the three samples."
   ]
  },
  {
   "cell_type": "code",
   "execution_count": 38,
   "metadata": {},
   "outputs": [],
   "source": [
    "#4c/ Lagrange multiplier test"
   ]
  },
  {
   "cell_type": "markdown",
   "metadata": {},
   "source": [
    "Lastly we will use the Lagrange multiplier test, where only the restricted model is needed. Using the following test statisctics, which under a null hypothesis follows a chi-squared distribution.\n",
    "\n",
    "$$\\frac{(\\frac{n}{\\hat\\lambda}-\\sum\\limits_{i=1}^n {(x_{i})})^2}{\\frac{n}{\\hat\\lambda^2}} $$\n",
    "\n",
    "I.e. the score (the first derivative of log-likelihood function wrt $\\lambda$) squared divided by the fisher information."
   ]
  },
  {
   "cell_type": "code",
   "execution_count": 39,
   "metadata": {},
   "outputs": [
    {
     "name": "stdout",
     "output_type": "stream",
     "text": [
      "[1] \"p-value 0.999999999079904\"\n"
     ]
    }
   ],
   "source": [
    "#small sample\n",
    "es_s <- model_s$estimate[1]\n",
    "lmstat <- ((n[1]/es_s - sum(exponential_s))^2)*(((es_s)^2)/n[1])\n",
    "print(paste(\"p-value\", pchisq (lmstat, 1, lower.tail=F)))"
   ]
  },
  {
   "cell_type": "code",
   "execution_count": 23,
   "metadata": {},
   "outputs": [
    {
     "name": "stdout",
     "output_type": "stream",
     "text": [
      "[1] \"p-value 0.999999989521733\"\n"
     ]
    }
   ],
   "source": [
    "# medium sample\n",
    "es_m <- model_m$estimate[1]\n",
    "lmstat <- ((n[2]/es_m - sum(exponential_m))^2)*(((es_m)^2)/n[2])\n",
    "print(paste(\"p-value\", pchisq (lmstat, 1, lower.tail=F)))"
   ]
  },
  {
   "cell_type": "code",
   "execution_count": 27,
   "metadata": {},
   "outputs": [
    {
     "name": "stdout",
     "output_type": "stream",
     "text": [
      "[1] \"p-value 0.999999989856113\"\n"
     ]
    }
   ],
   "source": [
    "# large sample\n",
    "es_l <- model_l$estimate[1]\n",
    "lmstat <- ((n[3]/es_l - sum(exponential_l))^2)*(((es_l)^2)/n[3])\n",
    "print(paste(\"p-value\", pchisq (lmstat, 1, lower.tail=F)))"
   ]
  },
  {
   "cell_type": "markdown",
   "metadata": {},
   "source": [
    "We clearly cannot reject the null hypothesis for any of the three samples."
   ]
  },
  {
   "cell_type": "markdown",
   "metadata": {},
   "source": [
    "Overall, we cannot reject the null hypothesis that the data points come from an exponential distribution for any of the samples, which is not surprising. However, the outcome of the LR and Wald test were not the most convincing for the small and medium samples, where in the latter case, the number of points was not small. The \"strongest\" test of all was the LM test."
   ]
  }
 ],
 "metadata": {
  "hide_input": false,
  "kernelspec": {
   "display_name": "R",
   "language": "R",
   "name": "ir"
  },
  "language_info": {
   "codemirror_mode": "r",
   "file_extension": ".r",
   "mimetype": "text/x-r-source",
   "name": "R",
   "pygments_lexer": "r",
   "version": "3.6.1"
  }
 },
 "nbformat": 4,
 "nbformat_minor": 2
}
