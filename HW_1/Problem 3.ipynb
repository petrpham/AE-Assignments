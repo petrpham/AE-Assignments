{
 "cells": [
  {
   "cell_type": "markdown",
   "metadata": {},
   "source": [
    "**Problem 3**"
   ]
  },
  {
   "cell_type": "code",
   "execution_count": 127,
   "metadata": {},
   "outputs": [],
   "source": [
    "require(maxLik)"
   ]
  },
  {
   "cell_type": "code",
   "execution_count": 97,
   "metadata": {},
   "outputs": [],
   "source": [
    "#1/ Simulation: exponential distribution lambda = 0.5"
   ]
  },
  {
   "cell_type": "code",
   "execution_count": 158,
   "metadata": {},
   "outputs": [],
   "source": [
    "set.seed(666)\n",
    "n <- c(42, 168, 672)\n",
    "exponential_s <- rexp(n[1], 0.5)\n",
    "exponential_m <- rexp(n[2], 0.5)\n",
    "exponential_l <- rexp(n[3], 0.5)"
   ]
  },
  {
   "cell_type": "code",
   "execution_count": 159,
   "metadata": {},
   "outputs": [],
   "source": [
    "#2/ MLE Exponential distribution"
   ]
  },
  {
   "cell_type": "code",
   "execution_count": 160,
   "metadata": {},
   "outputs": [],
   "source": [
    "logLikFun_s <- function(param) {\n",
    "  if (param <= 0) {\n",
    "    return(NA)\n",
    "  }\n",
    "  #return(sum(dexp(exponential, param, log = TRUE)))\n",
    "  return(n[1]*log(param) - param*sum(exponential_s))\n",
    "}\n",
    "\n",
    "logLikFun_m <- function(param) {\n",
    "  if (param <= 0) {\n",
    "    return(NA)\n",
    "  }\n",
    "  #return(sum(dexp(exponential, param, log = TRUE)))\n",
    "  return(n[2]*log(param) - param*sum(exponential_m))\n",
    "}\n",
    "\n",
    "logLikFun_l <- function(param) {\n",
    "  if (param <= 0) {\n",
    "    return(NA)\n",
    "  }\n",
    "  #return(sum(dexp(exponential, param, log = TRUE)))\n",
    "  return(n[3]*log(param) - param*sum(exponential_l))\n",
    "}"
   ]
  },
  {
   "cell_type": "code",
   "execution_count": 153,
   "metadata": {},
   "outputs": [],
   "source": [
    "mle_s <- maxLik(logLikFun_s, start = c(lambda = 1))\n",
    "model_s <- summary(mle_s) # model - assuming exponential distribution\n",
    "\n",
    "mle_m <- maxLik(logLikFun_m, start = c(lambda = 1))\n",
    "model_m <- summary(mle_m) # model - assuming exponential distribution\n",
    "\n",
    "mle_l <- maxLik(logLikFun_l, start = c(lambda = 1))\n",
    "model_l <- summary(mle_l) # model - assuming exponential distribution"
   ]
  },
  {
   "cell_type": "code",
   "execution_count": 161,
   "metadata": {},
   "outputs": [
    {
     "data": {
      "text/plain": [
       "--------------------------------------------\n",
       "Maximum Likelihood estimation\n",
       "Newton-Raphson maximisation, 6 iterations\n",
       "Return code 1: gradient close to zero\n",
       "Log-Likelihood: -63.87516 \n",
       "1  free parameters\n",
       "Estimates:\n",
       "       Estimate Std. error t value  Pr(> t)    \n",
       "lambda  0.59402    0.09166   6.481 9.11e-11 ***\n",
       "---\n",
       "Signif. codes:  0 '***' 0.001 '**' 0.01 '*' 0.05 '.' 0.1 ' ' 1\n",
       "--------------------------------------------"
      ]
     },
     "metadata": {},
     "output_type": "display_data"
    },
    {
     "data": {
      "text/plain": [
       "--------------------------------------------\n",
       "Maximum Likelihood estimation\n",
       "Newton-Raphson maximisation, 4 iterations\n",
       "Return code 1: gradient close to zero\n",
       "Log-Likelihood: -274.0297 \n",
       "1  free parameters\n",
       "Estimates:\n",
       "       Estimate Std. error t value Pr(> t)    \n",
       "lambda  0.53199    0.04104   12.96  <2e-16 ***\n",
       "---\n",
       "Signif. codes:  0 '***' 0.001 '**' 0.01 '*' 0.05 '.' 0.1 ' ' 1\n",
       "--------------------------------------------"
      ]
     },
     "metadata": {},
     "output_type": "display_data"
    },
    {
     "data": {
      "text/plain": [
       "--------------------------------------------\n",
       "Maximum Likelihood estimation\n",
       "Newton-Raphson maximisation, 4 iterations\n",
       "Return code 1: gradient close to zero\n",
       "Log-Likelihood: -1107.816 \n",
       "1  free parameters\n",
       "Estimates:\n",
       "       Estimate Std. error t value Pr(> t)    \n",
       "lambda  0.52281    0.02017   25.92  <2e-16 ***\n",
       "---\n",
       "Signif. codes:  0 '***' 0.001 '**' 0.01 '*' 0.05 '.' 0.1 ' ' 1\n",
       "--------------------------------------------"
      ]
     },
     "metadata": {},
     "output_type": "display_data"
    }
   ],
   "source": [
    "model_s\n",
    "model_m\n",
    "model_l"
   ]
  },
  {
   "cell_type": "code",
   "execution_count": 154,
   "metadata": {},
   "outputs": [],
   "source": [
    "#2/ MLE Gamma distribution"
   ]
  },
  {
   "cell_type": "code",
   "execution_count": 155,
   "metadata": {},
   "outputs": [],
   "source": [
    "logLikFun_sg <- function(param) {\n",
    "    if (param[1] <= 0) return(NA)\n",
    "    if (param[2] <= 0) return(NA)\n",
    "  return((param[1]-1)*sum(log(exponential_s))+n[1]*param[1]*log(param[2])-n[1]*log(gamma(param[1]))-param[2]*sum(exponential_s))\n",
    "}\n",
    "\n",
    "logLikFun_mg <- function(param) {\n",
    "    if (param[1] <= 0) return(NA)\n",
    "    if (param[2] <= 0) return(NA)\n",
    "  return((param[1]-1)*sum(log(exponential_m))+n[2]*param[1]*log(param[2])-n[2]*log(gamma(param[1]))-param[2]*sum(exponential_m))\n",
    "}\n",
    "\n",
    "logLikFun_lg <- function(param) {\n",
    "    if (param[1] <= 0) return(NA)\n",
    "    if (param[2] <= 0) return(NA)\n",
    "  return((param[1]-1)*sum(log(exponential_l))+n[3]*param[1]*log(param[2])-n[3]*log(gamma(param[1]))-param[2]*sum(exponential_l))\n",
    "}"
   ]
  },
  {
   "cell_type": "code",
   "execution_count": 156,
   "metadata": {},
   "outputs": [],
   "source": [
    "mle_sg <- maxLik(logLikFun_sg, start = c(alpha = 0.5, beta=0.5))\n",
    "model_sg <- summary(mle_sg)\n",
    "mle_mg <- maxLik(logLikFun_mg, start = c(alpha = 0.5, beta=0.5))\n",
    "model_mg <- summary(mle_mg)\n",
    "mle_lg <- maxLik(logLikFun_lg, start = c(alpha = 0.5, beta=0.5))\n",
    "model_lg <- summary(mle_lg)"
   ]
  },
  {
   "cell_type": "code",
   "execution_count": 162,
   "metadata": {},
   "outputs": [
    {
     "data": {
      "text/plain": [
       "--------------------------------------------\n",
       "Maximum Likelihood estimation\n",
       "Newton-Raphson maximisation, 6 iterations\n",
       "Return code 1: gradient close to zero\n",
       "Log-Likelihood: -62.66413 \n",
       "2  free parameters\n",
       "Estimates:\n",
       "      Estimate Std. error t value  Pr(> t)    \n",
       "alpha   0.7556     0.1415   5.339 9.35e-08 ***\n",
       "beta    0.4489     0.1158   3.875 0.000107 ***\n",
       "---\n",
       "Signif. codes:  0 '***' 0.001 '**' 0.01 '*' 0.05 '.' 0.1 ' ' 1\n",
       "--------------------------------------------"
      ]
     },
     "metadata": {},
     "output_type": "display_data"
    },
    {
     "data": {
      "text/plain": [
       "--------------------------------------------\n",
       "Maximum Likelihood estimation\n",
       "Newton-Raphson maximisation, 6 iterations\n",
       "Return code 2: successive function values within tolerance limit\n",
       "Log-Likelihood: -272.6147 \n",
       "2  free parameters\n",
       "Estimates:\n",
       "      Estimate Std. error t value Pr(> t)    \n",
       "alpha  1.18263    0.11529  10.257  <2e-16 ***\n",
       "beta   0.62915    0.07586   8.293  <2e-16 ***\n",
       "---\n",
       "Signif. codes:  0 '***' 0.001 '**' 0.01 '*' 0.05 '.' 0.1 ' ' 1\n",
       "--------------------------------------------"
      ]
     },
     "metadata": {},
     "output_type": "display_data"
    },
    {
     "data": {
      "text/plain": [
       "--------------------------------------------\n",
       "Maximum Likelihood estimation\n",
       "Newton-Raphson maximisation, 7 iterations\n",
       "Return code 1: gradient close to zero\n",
       "Log-Likelihood: -1107.805 \n",
       "2  free parameters\n",
       "Estimates:\n",
       "      Estimate Std. error t value Pr(> t)    \n",
       "alpha  1.00722    0.04841   20.80  <2e-16 ***\n",
       "beta   0.52659    0.03241   16.25  <2e-16 ***\n",
       "---\n",
       "Signif. codes:  0 '***' 0.001 '**' 0.01 '*' 0.05 '.' 0.1 ' ' 1\n",
       "--------------------------------------------"
      ]
     },
     "metadata": {},
     "output_type": "display_data"
    }
   ],
   "source": [
    "model_sg\n",
    "model_mg\n",
    "model_lg"
   ]
  },
  {
   "cell_type": "code",
   "execution_count": 157,
   "metadata": {},
   "outputs": [],
   "source": [
    "#4a/ small sample"
   ]
  },
  {
   "cell_type": "code",
   "execution_count": 139,
   "metadata": {},
   "outputs": [
    {
     "name": "stdout",
     "output_type": "stream",
     "text": [
      "[1] \"p-value 0.119637727285661\"\n"
     ]
    }
   ],
   "source": [
    "lrstat <- -2*(model_s$loglik - model_sg$loglik)  # model_1 - assuming exponential distribution - restricted,\n",
    "                                                # model_2 - assuming gamma distribution - unrestricted\n",
    "print(paste(\"p-value\",pchisq(lrstat, 1, lower.tail=F)))"
   ]
  },
  {
   "cell_type": "code",
   "execution_count": 140,
   "metadata": {},
   "outputs": [
    {
     "name": "stdout",
     "output_type": "stream",
     "text": [
      "[1] \"p-value 0.999999999079904\"\n"
     ]
    }
   ],
   "source": [
    "es_s <- model_s$estimate[1]\n",
    "lmstat <- ((n[1]/es_s - sum(exponential_s))^2)*(((es_s)^2)/n[1])\n",
    "print(paste(\"p-value\", pchisq (lmstat, 1, lower.tail=F)))"
   ]
  },
  {
   "cell_type": "code",
   "execution_count": 141,
   "metadata": {},
   "outputs": [
    {
     "name": "stdout",
     "output_type": "stream",
     "text": [
      "[1] \"p-value 0.0842378065136979\"\n"
     ]
    }
   ],
   "source": [
    "es_sg <- model_sg$estimate[1,1]\n",
    "se_sg <- model_sg$estimate[1,2]\n",
    "wstat <- (es_sg-1)^2/(se_sg)^2 # properly: W = (abs(a-1))^2/(Se(a))^2\n",
    "print(paste(\"p-value\", pchisq (wstat, 1, lower.tail=F)))"
   ]
  },
  {
   "cell_type": "code",
   "execution_count": null,
   "metadata": {},
   "outputs": [],
   "source": [
    "#4b/ medium sample"
   ]
  },
  {
   "cell_type": "code",
   "execution_count": 142,
   "metadata": {},
   "outputs": [
    {
     "name": "stdout",
     "output_type": "stream",
     "text": [
      "[1] \"p-value 0.0925226202683306\"\n"
     ]
    }
   ],
   "source": [
    "lrstat <- -2*(model_m$loglik - model_mg$loglik)  # model_1 - assuming exponential distribution - restricted,\n",
    "                                                # model_2 - assuming gamma distribution - unrestricted\n",
    "print(paste(\"p-value\",pchisq(lrstat, 1, lower.tail=F)))"
   ]
  },
  {
   "cell_type": "code",
   "execution_count": 143,
   "metadata": {},
   "outputs": [
    {
     "name": "stdout",
     "output_type": "stream",
     "text": [
      "[1] \"p-value 0.999999989521733\"\n"
     ]
    }
   ],
   "source": [
    "es_m <- model_m$estimate[1]\n",
    "lmstat <- ((n[2]/es_m - sum(exponential_m))^2)*(((es_m)^2)/n[2])\n",
    "print(paste(\"p-value\", pchisq (lmstat, 1, lower.tail=F)))"
   ]
  },
  {
   "cell_type": "code",
   "execution_count": 144,
   "metadata": {},
   "outputs": [
    {
     "name": "stdout",
     "output_type": "stream",
     "text": [
      "[1] \"p-value 0.11319332702774\"\n"
     ]
    }
   ],
   "source": [
    "es_mg <- model_mg$estimate[1,1]\n",
    "se_mg <- model_mg$estimate[1,2]\n",
    "wstat <- (es_mg-1)^2/(se_mg)^2 # properly: W = (abs(a-1))^2/(Se(a))^2\n",
    "print(paste(\"p-value\", pchisq (wstat, 1, lower.tail=F)))"
   ]
  },
  {
   "cell_type": "code",
   "execution_count": null,
   "metadata": {},
   "outputs": [],
   "source": [
    "#4c/ large sample"
   ]
  },
  {
   "cell_type": "code",
   "execution_count": 147,
   "metadata": {},
   "outputs": [
    {
     "name": "stdout",
     "output_type": "stream",
     "text": [
      "[1] \"p-value 0.881144874270125\"\n"
     ]
    }
   ],
   "source": [
    "lrstat <- -2*(model_l$loglik - model_lg$loglik)  # model_1 - assuming exponential distribution - restricted,\n",
    "                                                # model_2 - assuming gamma distribution - unrestricted\n",
    "print(paste(\"p-value\",pchisq(lrstat, 1, lower.tail=F)))"
   ]
  },
  {
   "cell_type": "code",
   "execution_count": 148,
   "metadata": {},
   "outputs": [
    {
     "name": "stdout",
     "output_type": "stream",
     "text": [
      "[1] \"p-value 0.999999989856113\"\n"
     ]
    }
   ],
   "source": [
    "es_l <- model_l$estimate[1]\n",
    "lmstat <- ((n[3]/es_l - sum(exponential_l))^2)*(((es_l)^2)/n[3])\n",
    "print(paste(\"p-value\", pchisq (lmstat, 1, lower.tail=F)))"
   ]
  },
  {
   "cell_type": "code",
   "execution_count": 149,
   "metadata": {},
   "outputs": [
    {
     "name": "stdout",
     "output_type": "stream",
     "text": [
      "[1] \"p-value 0.88145435358657\"\n"
     ]
    }
   ],
   "source": [
    "es_lg <- model_lg$estimate[1,1]\n",
    "se_lg <- model_lg$estimate[1,2]\n",
    "wstat <- (es_lg-1)^2/(se_lg)^2 # properly: W = (abs(a-1))^2/(Se(a))^2\n",
    "print(paste(\"p-value\", pchisq (wstat, 1, lower.tail=F)))"
   ]
  },
  {
   "cell_type": "code",
   "execution_count": null,
   "metadata": {},
   "outputs": [],
   "source": [
    "#5/ porovnani testu"
   ]
  }
 ],
 "metadata": {
  "hide_input": false,
  "kernelspec": {
   "display_name": "R",
   "language": "R",
   "name": "ir"
  },
  "language_info": {
   "codemirror_mode": "r",
   "file_extension": ".r",
   "mimetype": "text/x-r-source",
   "name": "R",
   "pygments_lexer": "r",
   "version": "3.6.1"
  }
 },
 "nbformat": 4,
 "nbformat_minor": 2
}
