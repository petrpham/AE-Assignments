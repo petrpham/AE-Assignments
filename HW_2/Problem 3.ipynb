{
 "cells": [
  {
   "cell_type": "markdown",
   "metadata": {},
   "source": [
    "# Advanced Econometrics - Assignment 2\n",
    "**Marta Batíková, Matěj Kovář, Petr Pham** "
   ]
  },
  {
   "cell_type": "markdown",
   "metadata": {},
   "source": [
    "# Problem 3"
   ]
  },
  {
   "cell_type": "code",
   "execution_count": 1,
   "metadata": {},
   "outputs": [
    {
     "name": "stderr",
     "output_type": "stream",
     "text": [
      "Loading required package: sandwich\n",
      "Loading required package: miscTools\n",
      "\n",
      "Please cite the 'maxLik' package as:\n",
      "Henningsen, Arne and Toomet, Ott (2011). maxLik: A package for maximum likelihood estimation in R. Computational Statistics 26(3), 443-458. DOI 10.1007/s00180-010-0217-1.\n",
      "\n",
      "If you have questions, suggestions, or comments regarding the 'maxLik' package, please use a forum or 'tracker' at maxLik's R-Forge site:\n",
      "https://r-forge.r-project.org/projects/maxlik/\n"
     ]
    }
   ],
   "source": [
    "library(gmm)\n",
    "library(maxLik)"
   ]
  },
  {
   "cell_type": "markdown",
   "metadata": {},
   "source": [
    "### a) Specification of two sample moment conditions\n",
    "Given the two moment conditions about mean and variance of a $\\chi^2$ distribution with $d$ degress of freedom. The vector of moments conditions is the following\n",
    "\n",
    "$$\n",
    "\\begin{aligned}\n",
    "E[g(\\theta,x_i)] \\equiv E \\left[ \\begin{array}{c}\n",
    "d-x_i\\\\\n",
    "2d - (x_i-d)^2 \\\\\\end{array} \\right]=0\n",
    "\\end{aligned}\n",
    "$$"
   ]
  },
  {
   "cell_type": "markdown",
   "metadata": {},
   "source": [
    "### b) + c) Sample simulation, GMM estimation,  $J$-test, verification of moment conditions"
   ]
  },
  {
   "cell_type": "code",
   "execution_count": 5,
   "metadata": {},
   "outputs": [],
   "source": [
    "# sampling 500 points from the chi-squared distribution with 1 degree of freedom\n",
    "set.seed(666)\n",
    "data <- rchisq(n=500, df = 1) "
   ]
  },
  {
   "cell_type": "code",
   "execution_count": 6,
   "metadata": {},
   "outputs": [],
   "source": [
    "# the two sample moment conditions as we have specified above are specified as following\n",
    "gmmcond = function(d, x) {\n",
    "    sm1 = (d-x)\n",
    "    sm2 = (2*d-(x-d)^2)\n",
    "    cond = cbind(sm1,sm2)\n",
    "    return(cond) \n",
    "}"
   ]
  },
  {
   "cell_type": "code",
   "execution_count": 11,
   "metadata": {},
   "outputs": [
    {
     "data": {
      "text/plain": [
       "\n",
       "Call:\n",
       "gmm(g = gmmcond, x = data, t0 = c(d = 0), wmatrix = \"optimal\", \n",
       "    vcov = \"HAC\", kernel = \"Truncated\", optfct = \"nlminb\")\n",
       "\n",
       "\n",
       "Method:  twoStep \n",
       "\n",
       "Kernel:  Truncated(with bw =  0.3442 )\n",
       "\n",
       "Coefficients:\n",
       "   Estimate    Std. Error  t value     Pr(>|t|)  \n",
       "d  9.9742e-01  5.0340e-02  1.9814e+01  2.2638e-87\n",
       "\n",
       "J-Test: degrees of freedom is 1 \n",
       "                J-test   P-value\n",
       "Test E(g)=0:    0.27665  0.59891\n",
       "\n",
       "Initial values of the coefficients\n",
       "       d \n",
       "1.060125 \n",
       "\n",
       "#############\n",
       "Information related to the numerical optimization\n",
       "Convergence code =  0 \n",
       "Function eval. =  6 \n",
       "Gradian eval. =  8 \n",
       "Message:  both X-convergence and relative convergence (5) "
      ]
     },
     "metadata": {},
     "output_type": "display_data"
    }
   ],
   "source": [
    "# Estimation of 1 degree of freedom with and optimal weighting matrix\n",
    "gmmopti <- gmm(gmmcond, data, t0 = c(d=0), wmatrix = \"optimal\", optfct = \"nlminb\", kernel = \"Truncated\", vcov = \"HAC\")\n",
    "summary(gmmopti)"
   ]
  },
  {
   "cell_type": "markdown",
   "metadata": {},
   "source": [
    "According to the $J$-test, the estimated model using an optimal weighting matrix is well specified. We cannot reject the null hypothesis as the p-value is rather large. The $H_0$ states that the value of the objective function is different from zero. "
   ]
  },
  {
   "cell_type": "code",
   "execution_count": 12,
   "metadata": {},
   "outputs": [
    {
     "data": {
      "text/plain": [
       "\n",
       "Call:\n",
       "gmm(g = gmmcond, x = data, t0 = c(d = 0), wmatrix = \"ident\", \n",
       "    vcov = \"HAC\", kernel = \"Truncated\", optfct = \"nlminb\")\n",
       "\n",
       "\n",
       "Method:  One step GMM with W = identity \n",
       "\n",
       "Kernel:  Truncated\n",
       "\n",
       "Coefficients:\n",
       "   Estimate    Std. Error  t value     Pr(>|t|)  \n",
       "d  1.0601e+00  1.3370e-01  7.9293e+00  2.2043e-15\n",
       "\n",
       "J-Test: degrees of freedom is 1 \n",
       "                J-test   P-value\n",
       "Test E(g)=0:    1.81566  0.17783\n",
       "\n",
       "#############\n",
       "Information related to the numerical optimization\n",
       "Convergence code =  0 \n",
       "Function eval. =  8 \n",
       "Gradian eval. =  10 \n",
       "Message:  both X-convergence and relative convergence (5) "
      ]
     },
     "metadata": {},
     "output_type": "display_data"
    }
   ],
   "source": [
    "# Estimation of 1 degree of freedom with and identity weighting matrix\n",
    "gmmiden <- gmm(gmmcond, data, t0 = c(d=0), wmatrix = \"ident\", optfct = \"nlminb\", kernel = \"Truncated\", vcov = \"HAC\")\n",
    "summary(gmmiden)"
   ]
  },
  {
   "cell_type": "markdown",
   "metadata": {},
   "source": [
    "According to the $J$-test, the estimated model using an identity weighting is still well specified. Thus, we can not reject the null hypothesis $H_0$ that the value of the objective function is different from zero. Yet in comparison with the previous model, the p-value is significantly lower (0.60 vs. 0.18)."
   ]
  },
  {
   "cell_type": "markdown",
   "metadata": {},
   "source": [
    "### d) Comparison of MM, GMM and MLE methods using simulations"
   ]
  },
  {
   "cell_type": "markdown",
   "metadata": {},
   "source": [
    "The two sample conditions were already defined (gmmcond function). In order to obtain the simple MM estimator, we will have to define a function with a sole sample condition (mmcond). Lastly, we will define the following log-likelihood function for the chi-squared distribution in order obtain the ML estimator.\n",
    "\n",
    "\\begin{align}\n",
    "log(L(k)) & =  \\log{\\left(\\prod_{i=1}^n f(x_i;k)\\right)}\\\\\n",
    "          & =  \\sum_{i=1}^n \\log{\\left(\\frac{x_i^{k/2-1}e^{-x_i/2}}{\\Gamma(k/2)2^{k/2}}\\right)}\\\\\n",
    "          & =  \\big(\\frac{k}{2}-1\\big)\\sum_{i=1}^n\\log{x_i} - \\frac{1}{2}\\sum_{i=1}^nx_i - n\\log(\\Gamma(k/2)) - \\frac{nk}{2}\\log(2)\n",
    "\\end{align}"
   ]
  },
  {
   "cell_type": "code",
   "execution_count": 13,
   "metadata": {},
   "outputs": [],
   "source": [
    "# sample moment condition for MM estimator\n",
    "mmcond = function(d, x) {\n",
    "    sm1 = (d-x)\n",
    "    return(sm1) \n",
    "}"
   ]
  },
  {
   "cell_type": "code",
   "execution_count": 116,
   "metadata": {},
   "outputs": [],
   "source": [
    "# simulation function including statistics and distribution of each estimator\n",
    "\n",
    "simulatechisq <- function(n = 100, iterations = 10) {\n",
    "   mat <- matrix(0, iterations, 4) # empty matrix for faster results\n",
    "   \n",
    "   # log-likelihood function (nested inside the outer function as samples are obtained locally)\n",
    "   logLikFun <- function(param) {\n",
    "    if (param <= 0) {\n",
    "      return(NA)\n",
    "    }\n",
    "      return(((param/2)-1)*sum(log(data)) - (0.5 * sum(data)) - n * log(gamma(param/2)) - (n*param) * 0.5 * log(2))\n",
    "   }  \n",
    "    \n",
    "   for(i in 1 : iterations){\n",
    " \n",
    "       data <- rchisq(n, df = 1) # generation of data from a chisquare distribution with 1 df\n",
    "       #Method of moments estimator\n",
    "       mat[i, 1] <- gmm(mmcond, data, t0 = c(d=0), optfct = \"nlminb\", kernel = \"Truncated\", vcov = \"HAC\")$coefficients  \n",
    "       #General method of moments estimator using an identity weighting matrix\n",
    "       mat[i, 2] <- gmm(gmmcond, data, t0 = c(d=0), wmatrix = \"ident\", optfct = \"nlminb\", kernel = \"Truncated\", vcov = \"HAC\")$coefficients  \n",
    "       #General method of moments estimator using an optimal weighting matrix\n",
    "       mat[i, 3] <- gmm(gmmcond, data, t0 = c(d=0), wmatrix = \"optimal\", optfct = \"nlminb\", kernel = \"Truncated\", vcov = \"HAC\")$coefficients  \n",
    "       #Maximum-likelihood estimator\n",
    "       mat[i, 4] <- maxLik(logLikFun, start = c(d=0.1))$estimate\n",
    "       \n",
    "   }\n",
    "\n",
    "   par(mfcol=c(2,2), oma=c(0,0,2,0)) # Ordering of histograms  \n",
    "   \n",
    "   hist(mat[, 1], breaks = seq(0.6, 1.4, by = 0.05), main = \"a) MM estimator\", xlab = \"Estimated mean\")\n",
    "   hist(mat[, 2], main = \"b) GMM estimator with identity WM\", xlab = \"Estimated mean\")\n",
    "   hist(mat[, 3], breaks = seq(0.6, 1.4, by = 0.05), main = \"c) GMM estimator with optimal WM\", xlab = \"Estimated mean\")\n",
    "   hist(mat[, 4], breaks = seq(0.6, 1.4, by = 0.05), main = \"d) MLE estimator\", xlab = \"Estimated mean\")\n",
    "   \n",
    "    title(cat(\n",
    "       paste(\"Comparison of MM, GMMs and MLE estimated parameters \"), \n",
    "       paste(\"Sample size = \", n,\", \", iterations, \" iterations\", sep = \"\")\n",
    "       , sep=\"\\n\"), outer = TRUE) \n",
    "    \n",
    "   statistics <- rbind(t(matrix(colMeans(mat))), t(matrix(colMeans(mat))) - 1, diag(var(mat)))\n",
    "   dimnames(statistics) <- list(c(\"Mean\", \"Bias\", \"Variance\"),\n",
    "                       c(\"MM estimator\",\"GMM estimator with identity WM\", \"GMM estimator with optimal WM\", \"MLE estimator\"))\n",
    "   return(statistics)\n",
    "    }"
   ]
  },
  {
   "cell_type": "code",
   "execution_count": 120,
   "metadata": {},
   "outputs": [
    {
     "name": "stdout",
     "output_type": "stream",
     "text": [
      "Comparison of MM, GMMs and MLE estimated parameters \n",
      "Sample size = 500, 1000 iterations\n"
     ]
    },
    {
     "data": {
      "text/html": [
       "<table>\n",
       "<thead><tr><th></th><th scope=col>MM estimator</th><th scope=col>GMM estimator with identity WM</th><th scope=col>GMM estimator with optimal WM</th><th scope=col>MLE estimator</th></tr></thead>\n",
       "<tbody>\n",
       "\t<tr><th scope=row>Mean</th><td> 0.997878654 </td><td> 0.9994482052</td><td>1.003048912  </td><td> 0.9997080632</td></tr>\n",
       "\t<tr><th scope=row>Bias</th><td>-0.002121346 </td><td>-0.0005517948</td><td>0.003048912  </td><td>-0.0002919368</td></tr>\n",
       "\t<tr><th scope=row>Variance</th><td> 0.003943186 </td><td> 0.0179419657</td><td>0.003103055  </td><td> 0.0016070354</td></tr>\n",
       "</tbody>\n",
       "</table>\n"
      ],
      "text/latex": [
       "\\begin{tabular}{r|llll}\n",
       "  & MM estimator & GMM estimator with identity WM & GMM estimator with optimal WM & MLE estimator\\\\\n",
       "\\hline\n",
       "\tMean &  0.997878654  &  0.9994482052 & 1.003048912   &  0.9997080632\\\\\n",
       "\tBias & -0.002121346  & -0.0005517948 & 0.003048912   & -0.0002919368\\\\\n",
       "\tVariance &  0.003943186  &  0.0179419657 & 0.003103055   &  0.0016070354\\\\\n",
       "\\end{tabular}\n"
      ],
      "text/markdown": [
       "\n",
       "| <!--/--> | MM estimator | GMM estimator with identity WM | GMM estimator with optimal WM | MLE estimator |\n",
       "|---|---|---|---|---|\n",
       "| Mean |  0.997878654  |  0.9994482052 | 1.003048912   |  0.9997080632 |\n",
       "| Bias | -0.002121346  | -0.0005517948 | 0.003048912   | -0.0002919368 |\n",
       "| Variance |  0.003943186  |  0.0179419657 | 0.003103055   |  0.0016070354 |\n",
       "\n"
      ],
      "text/plain": [
       "         MM estimator GMM estimator with identity WM\n",
       "Mean      0.997878654  0.9994482052                 \n",
       "Bias     -0.002121346 -0.0005517948                 \n",
       "Variance  0.003943186  0.0179419657                 \n",
       "         GMM estimator with optimal WM MLE estimator\n",
       "Mean     1.003048912                    0.9997080632\n",
       "Bias     0.003048912                   -0.0002919368\n",
       "Variance 0.003103055                    0.0016070354"
      ]
     },
     "metadata": {},
     "output_type": "display_data"
    },
    {
     "data": {
      "image/png": "[encoded data removed]",
      "text/plain": [
       "Plot with title \"d) MLE estimator\""
      ]
     },
     "metadata": {},
     "output_type": "display_data"
    }
   ],
   "source": [
    "options(scipen = 100)\n",
    "simulatechisq(n = 500, iterations = 1000)"
   ]
  },
  {
   "cell_type": "markdown",
   "metadata": {},
   "source": [
    "### Comparison of estimators\n",
    "Out of the four estimators, MLE is the most efficient estimator with the lowest bias and certainly the lowest variance. This is not a surprising result as MLE was simply able to use the additional information about the distribution. On the other hand, the remaining estimators do not need such assumption as thus did not make use of it. \n",
    "\n",
    "The second best is the MM estimator with a sole condition. Surprisingly for our chosen number of points (500) and number of iterations (1000), it is better than both GMM estimators, which seem to be \"confused\" with additional information. The GMM estimator with an identity weighting matrix, assigns the same weight for both conditions and does not take into account that the cost of the second condition is systematically be larger due to the specification of the second moment. Thus, as it is using one information more than the other, the bias is thus lower.\n",
    "\n",
    "Given our simulation parameters, the worst estimator of all four is the GMM estimator with optimal weighting matrix, which is rather unexpected. It seems that the assymptotic properties are genuinely assymptotic as n of 500 is simply not enough. The bias of the estimator is larger than its variance. The variance is however the second lowest and assymptotically this would be the second best estimator of the four."
   ]
  }
 ],
 "metadata": {
  "hide_input": false,
  "kernelspec": {
   "display_name": "R",
   "language": "R",
   "name": "ir"
  },
  "language_info": {
   "codemirror_mode": "r",
   "file_extension": ".r",
   "mimetype": "text/x-r-source",
   "name": "R",
   "pygments_lexer": "r",
   "version": "3.6.1"
  }
 },
 "nbformat": 4,
 "nbformat_minor": 2
}
